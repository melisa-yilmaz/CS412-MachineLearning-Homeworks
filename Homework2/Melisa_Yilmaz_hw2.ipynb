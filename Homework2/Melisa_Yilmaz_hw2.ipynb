{
  "nbformat": 4,
  "nbformat_minor": 5,
  "metadata": {
    "kernelspec": {
      "display_name": "Python 3.7 (tensorflow)",
      "language": "python",
      "name": "tensorflow"
    },
    "language_info": {
      "codemirror_mode": {
        "name": "ipython",
        "version": 3
      },
      "file_extension": ".py",
      "mimetype": "text/x-python",
      "name": "python",
      "nbconvert_exporter": "python",
      "pygments_lexer": "ipython3",
      "version": "3.7.10"
    },
    "colab": {
      "name": "melisayilmaz_hw2.ipynb",
      "provenance": [],
      "collapsed_sections": [
        "cBtSa7Pc8tCn",
        "Qg0mDfdNJgrd"
      ]
    }
  },
  "cells": [
    {
      "cell_type": "markdown",
      "metadata": {
        "id": "vMzUXgel6No1"
      },
      "source": [
        "# **CS412 - Machine Learning - 2022**\n",
        "## Assignment #2\n",
        "100 pts\n",
        "\n",
        "\n",
        "## Goal\n",
        "\n",
        "The goal of this homework is two-fold:\n",
        "\n",
        "*   Gain experience with neural network approaches\n",
        "*   Gain experience with the Keras library\n",
        "\n",
        "## Dataset\n",
        "You are going to use a house price dataset that we prepared for you, that contains four independent variables (predictors) and one target variable. The task is predicting the target variable (house price) from the predictors (house attributes).\n",
        "\n",
        "\n",
        "Download the data from SuCourse. Reserve 10% of the training data for validation and use the rest for development (learning your models). The official test data we provide (1,200 samples) should only be used for testing at the end, and not model selection.\n",
        "\n",
        "## Task \n",
        "Build a regressor with a neural network that has only one hidden layer, using the Keras library function calls to predict house prices in the provided dataset.\n",
        "\n",
        "Your code should follow the given skeleton and try the indicated parameters.\n",
        "\n",
        "## Preprocessing and Meta-parameters\n",
        "You should try 10,50 and 100 as hidden node count. \n",
        "\n",
        "You should  decide on the learning rate (step size), you can try values such as 0.001, 0.01, 0.1, but you may need to increase if learning is very slow or decrease if you see the loss increase!\n",
        "\n",
        "You can use either sigmoid or Relu activations for the hidden nodes (indicate with your results) and you should know what to use for the activation for the output layer, input, output layer sizes, and the suitable loss function. \n",
        "\n",
        "## Software: \n",
        "\n",
        "Keras is a library that we will use especially for deep learning, but also with basic neural network functionality of course.\n",
        "\n",
        "You may find the necessary function references here: \n",
        "\n",
        "http://scikit-learn.org/stable/supervised_learning.html\n",
        "https://keras.io/api/\n",
        "\n",
        "When you search for Dense for instance, you should find the relevant function and explained parameters, easily.\n",
        "\n",
        "## Submission: \n",
        "\n",
        "Fill this notebook. Write the report section at the end.\n",
        "\n",
        "You should prepare a separate pdf document as your homework (name hw2-CS412-yourname.pdf) which consists of the report (Part 8) of the notebook for easy viewing -and- include a link to your notebook from within the pdf report (make sure to include the link obtained from the #share link on top right, **be sure to share with Sabancı University first** as otherwise there will be access problems.). Also, do not forget to add your answers for Questions 2 and 3 on the assignment document."
      ],
      "id": "vMzUXgel6No1"
    },
    {
      "cell_type": "markdown",
      "metadata": {
        "id": "cBtSa7Pc8tCn"
      },
      "source": [
        "##1) Initialize\n",
        "\n",
        "*   First make a copy of the notebook given to you as a starter.\n",
        "\n",
        "*   Make sure you choose Connect form upper right.\n"
      ],
      "id": "cBtSa7Pc8tCn"
    },
    {
      "cell_type": "markdown",
      "metadata": {
        "id": "hFNmGxqa9G2O"
      },
      "source": [
        "## 2) Load training dataset\n",
        "\n",
        "* Load the datasets (train.csv, test.csv) provided on SuCourse on your Google drive and read the datasets using Google Drive's mount functions. \n",
        "You may find the necessary functions here: \n",
        "https://colab.research.google.com/notebooks/io.ipynb"
      ],
      "id": "hFNmGxqa9G2O"
    },
    {
      "cell_type": "code",
      "metadata": {
        "id": "nza2i-JK92eu",
        "colab": {
          "base_uri": "https://localhost:8080/"
        },
        "outputId": "434d6e51-07b9-4e1c-d627-1faf89606295"
      },
      "source": [
        "from google.colab import drive\n",
        "drive.mount('/content/drive/') \n",
        "# click on the url that pops up and give the necessary authorizations"
      ],
      "id": "nza2i-JK92eu",
      "execution_count": 1,
      "outputs": [
        {
          "output_type": "stream",
          "name": "stdout",
          "text": [
            "Mounted at /content/drive/\n"
          ]
        }
      ]
    },
    {
      "cell_type": "markdown",
      "metadata": {
        "id": "s9P--030AOoK"
      },
      "source": [
        "\n",
        "\n",
        "*   Set your notebooks working directory to the path where the datasets are uploaded (cd is the linux command for change directory) \n",
        "*   You may need to use cd drive/MyDrive depending on your path to the datasets on Google Drive. (don't comment the code in the cells when using linux commands)\n",
        "\n",
        "\n",
        "\n",
        "\n"
      ],
      "id": "s9P--030AOoK"
    },
    {
      "cell_type": "code",
      "metadata": {
        "id": "lplqod5D_cf1",
        "colab": {
          "base_uri": "https://localhost:8080/"
        },
        "outputId": "4f9161f9-384d-447b-bbfa-a88b11a552b1"
      },
      "source": [
        "cd drive/My\\ Drive/CS412/"
      ],
      "id": "lplqod5D_cf1",
      "execution_count": 2,
      "outputs": [
        {
          "output_type": "stream",
          "name": "stdout",
          "text": [
            "/content/drive/My Drive/CS412\n"
          ]
        }
      ]
    },
    {
      "cell_type": "markdown",
      "metadata": {
        "id": "IfMT3IgEAugF"
      },
      "source": [
        "* List the files in the current directory."
      ],
      "id": "IfMT3IgEAugF"
    },
    {
      "cell_type": "code",
      "metadata": {
        "id": "aoopxfoX-VOq",
        "colab": {
          "base_uri": "https://localhost:8080/"
        },
        "outputId": "f5374516-e8ff-4349-925e-781f82b1c14d"
      },
      "source": [
        "ls"
      ],
      "id": "aoopxfoX-VOq",
      "execution_count": 3,
      "outputs": [
        {
          "output_type": "stream",
          "name": "stdout",
          "text": [
            "dfBotTweets.csv  test.csv  train.csv\n"
          ]
        }
      ]
    },
    {
      "cell_type": "markdown",
      "metadata": {
        "id": "fZh3Y5AlBHAs"
      },
      "source": [
        "##3) Understanding the dataset (5 pts)\n",
        "\n",
        "There are alot of functions that can be used to know more about this dataset\n",
        "\n",
        "- What is the shape of the training set (num of samples X number of attributes) **[shape function can be used]**\n",
        "\n",
        "- Display attribute names **[columns function can be used]**\n",
        "\n",
        "- Display the first 5 rows from training dataset **[head or sample functions can be used]**\n",
        "\n",
        ".."
      ],
      "id": "fZh3Y5AlBHAs"
    },
    {
      "cell_type": "code",
      "metadata": {
        "id": "658e2be2"
      },
      "source": [
        "# import the necessary libraries\n",
        "import numpy as np\n",
        "import pandas as pd\n",
        "import matplotlib.pyplot as plt\n"
      ],
      "id": "658e2be2",
      "execution_count": 4,
      "outputs": []
    },
    {
      "cell_type": "code",
      "source": [
        "# load the data\n",
        "train_df = pd.read_csv(\"train.csv\")"
      ],
      "metadata": {
        "id": "siMkpsPfc9qn"
      },
      "id": "siMkpsPfc9qn",
      "execution_count": 5,
      "outputs": []
    },
    {
      "cell_type": "code",
      "source": [
        "# show first 10 elements of the training data\n",
        "train_df.head(10)"
      ],
      "metadata": {
        "colab": {
          "base_uri": "https://localhost:8080/",
          "height": 363
        },
        "id": "WmwLSmbAdBbu",
        "outputId": "c0699344-f387-4f7a-cd61-5dbc123755eb"
      },
      "id": "WmwLSmbAdBbu",
      "execution_count": 6,
      "outputs": [
        {
          "output_type": "execute_result",
          "data": {
            "text/plain": [
              "   sqmtrs  nrooms   view crime_rate          price\n",
              "0     251       5   west        low  925701.721399\n",
              "1     211       3   west       high  622237.482636\n",
              "2     128       5   east        low  694998.182376\n",
              "3     178       3   east       high  564689.015926\n",
              "4     231       3   west        low  811222.970379\n",
              "5     253       5  north       high  766250.032506\n",
              "6     101       1  north        low  512749.401548\n",
              "7     242       1  north       high  637010.760148\n",
              "8     174       5   west       high  638136.374869\n",
              "9     328       2  south       high  787704.988273"
            ],
            "text/html": [
              "\n",
              "  <div id=\"df-a7d0c0b5-3e4f-44e8-b04d-9caab6698c01\">\n",
              "    <div class=\"colab-df-container\">\n",
              "      <div>\n",
              "<style scoped>\n",
              "    .dataframe tbody tr th:only-of-type {\n",
              "        vertical-align: middle;\n",
              "    }\n",
              "\n",
              "    .dataframe tbody tr th {\n",
              "        vertical-align: top;\n",
              "    }\n",
              "\n",
              "    .dataframe thead th {\n",
              "        text-align: right;\n",
              "    }\n",
              "</style>\n",
              "<table border=\"1\" class=\"dataframe\">\n",
              "  <thead>\n",
              "    <tr style=\"text-align: right;\">\n",
              "      <th></th>\n",
              "      <th>sqmtrs</th>\n",
              "      <th>nrooms</th>\n",
              "      <th>view</th>\n",
              "      <th>crime_rate</th>\n",
              "      <th>price</th>\n",
              "    </tr>\n",
              "  </thead>\n",
              "  <tbody>\n",
              "    <tr>\n",
              "      <th>0</th>\n",
              "      <td>251</td>\n",
              "      <td>5</td>\n",
              "      <td>west</td>\n",
              "      <td>low</td>\n",
              "      <td>925701.721399</td>\n",
              "    </tr>\n",
              "    <tr>\n",
              "      <th>1</th>\n",
              "      <td>211</td>\n",
              "      <td>3</td>\n",
              "      <td>west</td>\n",
              "      <td>high</td>\n",
              "      <td>622237.482636</td>\n",
              "    </tr>\n",
              "    <tr>\n",
              "      <th>2</th>\n",
              "      <td>128</td>\n",
              "      <td>5</td>\n",
              "      <td>east</td>\n",
              "      <td>low</td>\n",
              "      <td>694998.182376</td>\n",
              "    </tr>\n",
              "    <tr>\n",
              "      <th>3</th>\n",
              "      <td>178</td>\n",
              "      <td>3</td>\n",
              "      <td>east</td>\n",
              "      <td>high</td>\n",
              "      <td>564689.015926</td>\n",
              "    </tr>\n",
              "    <tr>\n",
              "      <th>4</th>\n",
              "      <td>231</td>\n",
              "      <td>3</td>\n",
              "      <td>west</td>\n",
              "      <td>low</td>\n",
              "      <td>811222.970379</td>\n",
              "    </tr>\n",
              "    <tr>\n",
              "      <th>5</th>\n",
              "      <td>253</td>\n",
              "      <td>5</td>\n",
              "      <td>north</td>\n",
              "      <td>high</td>\n",
              "      <td>766250.032506</td>\n",
              "    </tr>\n",
              "    <tr>\n",
              "      <th>6</th>\n",
              "      <td>101</td>\n",
              "      <td>1</td>\n",
              "      <td>north</td>\n",
              "      <td>low</td>\n",
              "      <td>512749.401548</td>\n",
              "    </tr>\n",
              "    <tr>\n",
              "      <th>7</th>\n",
              "      <td>242</td>\n",
              "      <td>1</td>\n",
              "      <td>north</td>\n",
              "      <td>high</td>\n",
              "      <td>637010.760148</td>\n",
              "    </tr>\n",
              "    <tr>\n",
              "      <th>8</th>\n",
              "      <td>174</td>\n",
              "      <td>5</td>\n",
              "      <td>west</td>\n",
              "      <td>high</td>\n",
              "      <td>638136.374869</td>\n",
              "    </tr>\n",
              "    <tr>\n",
              "      <th>9</th>\n",
              "      <td>328</td>\n",
              "      <td>2</td>\n",
              "      <td>south</td>\n",
              "      <td>high</td>\n",
              "      <td>787704.988273</td>\n",
              "    </tr>\n",
              "  </tbody>\n",
              "</table>\n",
              "</div>\n",
              "      <button class=\"colab-df-convert\" onclick=\"convertToInteractive('df-a7d0c0b5-3e4f-44e8-b04d-9caab6698c01')\"\n",
              "              title=\"Convert this dataframe to an interactive table.\"\n",
              "              style=\"display:none;\">\n",
              "        \n",
              "  <svg xmlns=\"http://www.w3.org/2000/svg\" height=\"24px\"viewBox=\"0 0 24 24\"\n",
              "       width=\"24px\">\n",
              "    <path d=\"M0 0h24v24H0V0z\" fill=\"none\"/>\n",
              "    <path d=\"M18.56 5.44l.94 2.06.94-2.06 2.06-.94-2.06-.94-.94-2.06-.94 2.06-2.06.94zm-11 1L8.5 8.5l.94-2.06 2.06-.94-2.06-.94L8.5 2.5l-.94 2.06-2.06.94zm10 10l.94 2.06.94-2.06 2.06-.94-2.06-.94-.94-2.06-.94 2.06-2.06.94z\"/><path d=\"M17.41 7.96l-1.37-1.37c-.4-.4-.92-.59-1.43-.59-.52 0-1.04.2-1.43.59L10.3 9.45l-7.72 7.72c-.78.78-.78 2.05 0 2.83L4 21.41c.39.39.9.59 1.41.59.51 0 1.02-.2 1.41-.59l7.78-7.78 2.81-2.81c.8-.78.8-2.07 0-2.86zM5.41 20L4 18.59l7.72-7.72 1.47 1.35L5.41 20z\"/>\n",
              "  </svg>\n",
              "      </button>\n",
              "      \n",
              "  <style>\n",
              "    .colab-df-container {\n",
              "      display:flex;\n",
              "      flex-wrap:wrap;\n",
              "      gap: 12px;\n",
              "    }\n",
              "\n",
              "    .colab-df-convert {\n",
              "      background-color: #E8F0FE;\n",
              "      border: none;\n",
              "      border-radius: 50%;\n",
              "      cursor: pointer;\n",
              "      display: none;\n",
              "      fill: #1967D2;\n",
              "      height: 32px;\n",
              "      padding: 0 0 0 0;\n",
              "      width: 32px;\n",
              "    }\n",
              "\n",
              "    .colab-df-convert:hover {\n",
              "      background-color: #E2EBFA;\n",
              "      box-shadow: 0px 1px 2px rgba(60, 64, 67, 0.3), 0px 1px 3px 1px rgba(60, 64, 67, 0.15);\n",
              "      fill: #174EA6;\n",
              "    }\n",
              "\n",
              "    [theme=dark] .colab-df-convert {\n",
              "      background-color: #3B4455;\n",
              "      fill: #D2E3FC;\n",
              "    }\n",
              "\n",
              "    [theme=dark] .colab-df-convert:hover {\n",
              "      background-color: #434B5C;\n",
              "      box-shadow: 0px 1px 3px 1px rgba(0, 0, 0, 0.15);\n",
              "      filter: drop-shadow(0px 1px 2px rgba(0, 0, 0, 0.3));\n",
              "      fill: #FFFFFF;\n",
              "    }\n",
              "  </style>\n",
              "\n",
              "      <script>\n",
              "        const buttonEl =\n",
              "          document.querySelector('#df-a7d0c0b5-3e4f-44e8-b04d-9caab6698c01 button.colab-df-convert');\n",
              "        buttonEl.style.display =\n",
              "          google.colab.kernel.accessAllowed ? 'block' : 'none';\n",
              "\n",
              "        async function convertToInteractive(key) {\n",
              "          const element = document.querySelector('#df-a7d0c0b5-3e4f-44e8-b04d-9caab6698c01');\n",
              "          const dataTable =\n",
              "            await google.colab.kernel.invokeFunction('convertToInteractive',\n",
              "                                                     [key], {});\n",
              "          if (!dataTable) return;\n",
              "\n",
              "          const docLinkHtml = 'Like what you see? Visit the ' +\n",
              "            '<a target=\"_blank\" href=https://colab.research.google.com/notebooks/data_table.ipynb>data table notebook</a>'\n",
              "            + ' to learn more about interactive tables.';\n",
              "          element.innerHTML = '';\n",
              "          dataTable['output_type'] = 'display_data';\n",
              "          await google.colab.output.renderOutput(dataTable, element);\n",
              "          const docLink = document.createElement('div');\n",
              "          docLink.innerHTML = docLinkHtml;\n",
              "          element.appendChild(docLink);\n",
              "        }\n",
              "      </script>\n",
              "    </div>\n",
              "  </div>\n",
              "  "
            ]
          },
          "metadata": {},
          "execution_count": 6
        }
      ]
    },
    {
      "cell_type": "code",
      "metadata": {
        "id": "12bbf0c6",
        "colab": {
          "base_uri": "https://localhost:8080/"
        },
        "outputId": "4baedda8-ddda-4cd5-b745-fa071c68e30c"
      },
      "source": [
        "# print the shape of data\n",
        "print(\"Data dimensionality is:\", train_df.shape, \"\\n\");\n",
        "\n",
        "# also give some statistics about the data like mean, standard deviation etc.\n",
        "print(\"Mean of the data is:\\n\",train_df.mean(), \"\\n\");\n",
        "print(\"Standard deviation of the data is:\\n\",train_df.std());\n"
      ],
      "id": "12bbf0c6",
      "execution_count": 7,
      "outputs": [
        {
          "output_type": "stream",
          "name": "stdout",
          "text": [
            "Data dimensionality is: (4800, 5) \n",
            "\n",
            "Mean of the data is:\n",
            " sqmtrs       225.033542\n",
            "nrooms         2.983958\n",
            "price     725756.960758\n",
            "dtype: float64 \n",
            "\n",
            "Standard deviation of the data is:\n",
            " sqmtrs        71.851436\n",
            "nrooms         1.421251\n",
            "price     151041.121658\n",
            "dtype: float64\n"
          ]
        },
        {
          "output_type": "stream",
          "name": "stderr",
          "text": [
            "/usr/local/lib/python3.7/dist-packages/ipykernel_launcher.py:5: FutureWarning: Dropping of nuisance columns in DataFrame reductions (with 'numeric_only=None') is deprecated; in a future version this will raise TypeError.  Select only valid columns before calling the reduction.\n",
            "  \"\"\"\n",
            "/usr/local/lib/python3.7/dist-packages/ipykernel_launcher.py:6: FutureWarning: Dropping of nuisance columns in DataFrame reductions (with 'numeric_only=None') is deprecated; in a future version this will raise TypeError.  Select only valid columns before calling the reduction.\n",
            "  \n"
          ]
        }
      ]
    },
    {
      "cell_type": "markdown",
      "metadata": {
        "id": "GtBJzQ6NB1Kz"
      },
      "source": [
        "##4) Preprocessing Steps (10 pts)\n",
        "\n",
        "As some of the features (predictive variables) on this dataset are categorical (non-numeric) you need to do some preprocessing for those features.\n",
        "\n",
        "You can use as many **dummy or indicator variables** as there are categories within one feature. You can also look at pandas' get_dummies or keras.utils.to_categorical functions.\n",
        "\n",
        "In neural networks, scaling of the features are important, because they affect the net input of a neuron as a whole. You should use **MinMax scaler** on sklearn for this task, which scales the variables between 0 and 1 on by default. (Remember that mean-squared error loss function tends to be extremely large with unscaled features.)\n"
      ],
      "id": "GtBJzQ6NB1Kz"
    },
    {
      "cell_type": "code",
      "source": [
        "# View and Crime Rate features are categorical values. \n",
        "# For training them, we have to convert them to numerical values.\n",
        "# To achieve it, I used LabelEncoder."
      ],
      "metadata": {
        "id": "nY6X-bR6CBd4"
      },
      "id": "nY6X-bR6CBd4",
      "execution_count": 8,
      "outputs": []
    },
    {
      "cell_type": "code",
      "metadata": {
        "id": "b505bf7b",
        "colab": {
          "base_uri": "https://localhost:8080/"
        },
        "outputId": "196448db-65da-4685-f7f0-e79e6e9d50be"
      },
      "source": [
        "# encode the categorical variables\n",
        "# first encode the view column\n",
        "from sklearn.preprocessing import LabelEncoder\n",
        "le = LabelEncoder()\n",
        "label = le.fit_transform(train_df['view'])\n",
        "train_df.drop(\"view\", axis=1, inplace=True)\n",
        "train_df[\"view\"] = label\n",
        "print(train_df)"
      ],
      "id": "b505bf7b",
      "execution_count": 9,
      "outputs": [
        {
          "output_type": "stream",
          "name": "stdout",
          "text": [
            "      sqmtrs  nrooms crime_rate          price  view\n",
            "0        251       5        low  925701.721399     3\n",
            "1        211       3       high  622237.482636     3\n",
            "2        128       5        low  694998.182376     0\n",
            "3        178       3       high  564689.015926     0\n",
            "4        231       3        low  811222.970379     3\n",
            "...      ...     ...        ...            ...   ...\n",
            "4795     231       5        low  886024.190216     0\n",
            "4796     229       2        low  781430.834086     0\n",
            "4797     334       2       high  786639.104497     3\n",
            "4798     332       2       high  778546.285214     1\n",
            "4799     244       4        low  867039.582695     0\n",
            "\n",
            "[4800 rows x 5 columns]\n"
          ]
        }
      ]
    },
    {
      "cell_type": "code",
      "source": [
        "# encode the view crime_rate\n",
        "from sklearn.preprocessing import LabelEncoder\n",
        "le = LabelEncoder()\n",
        "label = le.fit_transform(train_df['crime_rate'])\n",
        "train_df.drop(\"crime_rate\", axis=1, inplace=True)\n",
        "train_df[\"crime_rate\"] = label\n",
        "print(train_df)"
      ],
      "metadata": {
        "colab": {
          "base_uri": "https://localhost:8080/"
        },
        "id": "oFAtzQcauhkw",
        "outputId": "e72887db-b895-4353-c0d4-3dfcaad7845d"
      },
      "id": "oFAtzQcauhkw",
      "execution_count": 10,
      "outputs": [
        {
          "output_type": "stream",
          "name": "stdout",
          "text": [
            "      sqmtrs  nrooms          price  view  crime_rate\n",
            "0        251       5  925701.721399     3           1\n",
            "1        211       3  622237.482636     3           0\n",
            "2        128       5  694998.182376     0           1\n",
            "3        178       3  564689.015926     0           0\n",
            "4        231       3  811222.970379     3           1\n",
            "...      ...     ...            ...   ...         ...\n",
            "4795     231       5  886024.190216     0           1\n",
            "4796     229       2  781430.834086     0           1\n",
            "4797     334       2  786639.104497     3           0\n",
            "4798     332       2  778546.285214     1           0\n",
            "4799     244       4  867039.582695     0           1\n",
            "\n",
            "[4800 rows x 5 columns]\n"
          ]
        }
      ]
    },
    {
      "cell_type": "code",
      "source": [
        "# I would use this part for the KNN and the Decision tree\n",
        "train_df_bonus = train_df\n",
        "train_df_bonus\n"
      ],
      "metadata": {
        "colab": {
          "base_uri": "https://localhost:8080/",
          "height": 424
        },
        "id": "E_J3oL8KZ5ZI",
        "outputId": "1e8d2401-5ada-45fd-a306-6633f7c480a0"
      },
      "id": "E_J3oL8KZ5ZI",
      "execution_count": 11,
      "outputs": [
        {
          "output_type": "execute_result",
          "data": {
            "text/plain": [
              "      sqmtrs  nrooms          price  view  crime_rate\n",
              "0        251       5  925701.721399     3           1\n",
              "1        211       3  622237.482636     3           0\n",
              "2        128       5  694998.182376     0           1\n",
              "3        178       3  564689.015926     0           0\n",
              "4        231       3  811222.970379     3           1\n",
              "...      ...     ...            ...   ...         ...\n",
              "4795     231       5  886024.190216     0           1\n",
              "4796     229       2  781430.834086     0           1\n",
              "4797     334       2  786639.104497     3           0\n",
              "4798     332       2  778546.285214     1           0\n",
              "4799     244       4  867039.582695     0           1\n",
              "\n",
              "[4800 rows x 5 columns]"
            ],
            "text/html": [
              "\n",
              "  <div id=\"df-987817c8-8019-471f-8d3d-ed7aed56e164\">\n",
              "    <div class=\"colab-df-container\">\n",
              "      <div>\n",
              "<style scoped>\n",
              "    .dataframe tbody tr th:only-of-type {\n",
              "        vertical-align: middle;\n",
              "    }\n",
              "\n",
              "    .dataframe tbody tr th {\n",
              "        vertical-align: top;\n",
              "    }\n",
              "\n",
              "    .dataframe thead th {\n",
              "        text-align: right;\n",
              "    }\n",
              "</style>\n",
              "<table border=\"1\" class=\"dataframe\">\n",
              "  <thead>\n",
              "    <tr style=\"text-align: right;\">\n",
              "      <th></th>\n",
              "      <th>sqmtrs</th>\n",
              "      <th>nrooms</th>\n",
              "      <th>price</th>\n",
              "      <th>view</th>\n",
              "      <th>crime_rate</th>\n",
              "    </tr>\n",
              "  </thead>\n",
              "  <tbody>\n",
              "    <tr>\n",
              "      <th>0</th>\n",
              "      <td>251</td>\n",
              "      <td>5</td>\n",
              "      <td>925701.721399</td>\n",
              "      <td>3</td>\n",
              "      <td>1</td>\n",
              "    </tr>\n",
              "    <tr>\n",
              "      <th>1</th>\n",
              "      <td>211</td>\n",
              "      <td>3</td>\n",
              "      <td>622237.482636</td>\n",
              "      <td>3</td>\n",
              "      <td>0</td>\n",
              "    </tr>\n",
              "    <tr>\n",
              "      <th>2</th>\n",
              "      <td>128</td>\n",
              "      <td>5</td>\n",
              "      <td>694998.182376</td>\n",
              "      <td>0</td>\n",
              "      <td>1</td>\n",
              "    </tr>\n",
              "    <tr>\n",
              "      <th>3</th>\n",
              "      <td>178</td>\n",
              "      <td>3</td>\n",
              "      <td>564689.015926</td>\n",
              "      <td>0</td>\n",
              "      <td>0</td>\n",
              "    </tr>\n",
              "    <tr>\n",
              "      <th>4</th>\n",
              "      <td>231</td>\n",
              "      <td>3</td>\n",
              "      <td>811222.970379</td>\n",
              "      <td>3</td>\n",
              "      <td>1</td>\n",
              "    </tr>\n",
              "    <tr>\n",
              "      <th>...</th>\n",
              "      <td>...</td>\n",
              "      <td>...</td>\n",
              "      <td>...</td>\n",
              "      <td>...</td>\n",
              "      <td>...</td>\n",
              "    </tr>\n",
              "    <tr>\n",
              "      <th>4795</th>\n",
              "      <td>231</td>\n",
              "      <td>5</td>\n",
              "      <td>886024.190216</td>\n",
              "      <td>0</td>\n",
              "      <td>1</td>\n",
              "    </tr>\n",
              "    <tr>\n",
              "      <th>4796</th>\n",
              "      <td>229</td>\n",
              "      <td>2</td>\n",
              "      <td>781430.834086</td>\n",
              "      <td>0</td>\n",
              "      <td>1</td>\n",
              "    </tr>\n",
              "    <tr>\n",
              "      <th>4797</th>\n",
              "      <td>334</td>\n",
              "      <td>2</td>\n",
              "      <td>786639.104497</td>\n",
              "      <td>3</td>\n",
              "      <td>0</td>\n",
              "    </tr>\n",
              "    <tr>\n",
              "      <th>4798</th>\n",
              "      <td>332</td>\n",
              "      <td>2</td>\n",
              "      <td>778546.285214</td>\n",
              "      <td>1</td>\n",
              "      <td>0</td>\n",
              "    </tr>\n",
              "    <tr>\n",
              "      <th>4799</th>\n",
              "      <td>244</td>\n",
              "      <td>4</td>\n",
              "      <td>867039.582695</td>\n",
              "      <td>0</td>\n",
              "      <td>1</td>\n",
              "    </tr>\n",
              "  </tbody>\n",
              "</table>\n",
              "<p>4800 rows × 5 columns</p>\n",
              "</div>\n",
              "      <button class=\"colab-df-convert\" onclick=\"convertToInteractive('df-987817c8-8019-471f-8d3d-ed7aed56e164')\"\n",
              "              title=\"Convert this dataframe to an interactive table.\"\n",
              "              style=\"display:none;\">\n",
              "        \n",
              "  <svg xmlns=\"http://www.w3.org/2000/svg\" height=\"24px\"viewBox=\"0 0 24 24\"\n",
              "       width=\"24px\">\n",
              "    <path d=\"M0 0h24v24H0V0z\" fill=\"none\"/>\n",
              "    <path d=\"M18.56 5.44l.94 2.06.94-2.06 2.06-.94-2.06-.94-.94-2.06-.94 2.06-2.06.94zm-11 1L8.5 8.5l.94-2.06 2.06-.94-2.06-.94L8.5 2.5l-.94 2.06-2.06.94zm10 10l.94 2.06.94-2.06 2.06-.94-2.06-.94-.94-2.06-.94 2.06-2.06.94z\"/><path d=\"M17.41 7.96l-1.37-1.37c-.4-.4-.92-.59-1.43-.59-.52 0-1.04.2-1.43.59L10.3 9.45l-7.72 7.72c-.78.78-.78 2.05 0 2.83L4 21.41c.39.39.9.59 1.41.59.51 0 1.02-.2 1.41-.59l7.78-7.78 2.81-2.81c.8-.78.8-2.07 0-2.86zM5.41 20L4 18.59l7.72-7.72 1.47 1.35L5.41 20z\"/>\n",
              "  </svg>\n",
              "      </button>\n",
              "      \n",
              "  <style>\n",
              "    .colab-df-container {\n",
              "      display:flex;\n",
              "      flex-wrap:wrap;\n",
              "      gap: 12px;\n",
              "    }\n",
              "\n",
              "    .colab-df-convert {\n",
              "      background-color: #E8F0FE;\n",
              "      border: none;\n",
              "      border-radius: 50%;\n",
              "      cursor: pointer;\n",
              "      display: none;\n",
              "      fill: #1967D2;\n",
              "      height: 32px;\n",
              "      padding: 0 0 0 0;\n",
              "      width: 32px;\n",
              "    }\n",
              "\n",
              "    .colab-df-convert:hover {\n",
              "      background-color: #E2EBFA;\n",
              "      box-shadow: 0px 1px 2px rgba(60, 64, 67, 0.3), 0px 1px 3px 1px rgba(60, 64, 67, 0.15);\n",
              "      fill: #174EA6;\n",
              "    }\n",
              "\n",
              "    [theme=dark] .colab-df-convert {\n",
              "      background-color: #3B4455;\n",
              "      fill: #D2E3FC;\n",
              "    }\n",
              "\n",
              "    [theme=dark] .colab-df-convert:hover {\n",
              "      background-color: #434B5C;\n",
              "      box-shadow: 0px 1px 3px 1px rgba(0, 0, 0, 0.15);\n",
              "      filter: drop-shadow(0px 1px 2px rgba(0, 0, 0, 0.3));\n",
              "      fill: #FFFFFF;\n",
              "    }\n",
              "  </style>\n",
              "\n",
              "      <script>\n",
              "        const buttonEl =\n",
              "          document.querySelector('#df-987817c8-8019-471f-8d3d-ed7aed56e164 button.colab-df-convert');\n",
              "        buttonEl.style.display =\n",
              "          google.colab.kernel.accessAllowed ? 'block' : 'none';\n",
              "\n",
              "        async function convertToInteractive(key) {\n",
              "          const element = document.querySelector('#df-987817c8-8019-471f-8d3d-ed7aed56e164');\n",
              "          const dataTable =\n",
              "            await google.colab.kernel.invokeFunction('convertToInteractive',\n",
              "                                                     [key], {});\n",
              "          if (!dataTable) return;\n",
              "\n",
              "          const docLinkHtml = 'Like what you see? Visit the ' +\n",
              "            '<a target=\"_blank\" href=https://colab.research.google.com/notebooks/data_table.ipynb>data table notebook</a>'\n",
              "            + ' to learn more about interactive tables.';\n",
              "          element.innerHTML = '';\n",
              "          dataTable['output_type'] = 'display_data';\n",
              "          await google.colab.output.renderOutput(dataTable, element);\n",
              "          const docLink = document.createElement('div');\n",
              "          docLink.innerHTML = docLinkHtml;\n",
              "          element.appendChild(docLink);\n",
              "        }\n",
              "      </script>\n",
              "    </div>\n",
              "  </div>\n",
              "  "
            ]
          },
          "metadata": {},
          "execution_count": 11
        }
      ]
    },
    {
      "cell_type": "code",
      "source": [
        "# encode the view crime_rate\n",
        "from sklearn.preprocessing import LabelEncoder\n",
        "le = LabelEncoder()\n",
        "label = le.fit_transform(train_df_bonus['price'])\n",
        "train_df_bonus.drop(\"price\", axis=1, inplace=True)\n",
        "train_df_bonus[\"price\"] = label\n",
        "print(train_df_bonus)"
      ],
      "metadata": {
        "colab": {
          "base_uri": "https://localhost:8080/"
        },
        "id": "_PSLvp8feA10",
        "outputId": "e6ea1bf6-b01c-4fec-e733-1d232e4c2f64"
      },
      "id": "_PSLvp8feA10",
      "execution_count": 12,
      "outputs": [
        {
          "output_type": "stream",
          "name": "stdout",
          "text": [
            "      sqmtrs  nrooms  view  crime_rate  price\n",
            "0        251       5     3           1   4337\n",
            "1        211       3     3           0   1222\n",
            "2        128       5     0           1   1994\n",
            "3        178       3     0           0    749\n",
            "4        231       3     3           1   3317\n",
            "...      ...     ...   ...         ...    ...\n",
            "4795     231       5     0           1   4025\n",
            "4796     229       2     0           1   2984\n",
            "4797     334       2     3           0   3039\n",
            "4798     332       2     1           0   2943\n",
            "4799     244       4     0           1   3872\n",
            "\n",
            "[4800 rows x 5 columns]\n"
          ]
        }
      ]
    },
    {
      "cell_type": "code",
      "source": [
        "# Define X:\n",
        "X = train_df_bonus[['sqmtrs',\t'nrooms',\t'view',\t'crime_rate']];\n",
        "\n",
        "# Define y:\n",
        "y = train_df_bonus['price'];\n",
        "\n",
        "# split 90-10\n",
        "from sklearn.model_selection import train_test_split\n",
        "\n",
        "X_train_bonus, X_validation_bonus, y_train_bonus, y_validation_bonus= train_test_split(X, y, test_size=0.1, random_state=42);\n",
        "\n",
        "print(\"Length of the training set:\", len(y_train_bonus),\"\\n\",\n",
        "      \"Length of the validation set: \", len(y_validation_bonus)); "
      ],
      "metadata": {
        "colab": {
          "base_uri": "https://localhost:8080/"
        },
        "id": "n4MiSmqRd6UI",
        "outputId": "86cb0bcc-a38d-4360-b82b-6b7d37864d91"
      },
      "id": "n4MiSmqRd6UI",
      "execution_count": 13,
      "outputs": [
        {
          "output_type": "stream",
          "name": "stdout",
          "text": [
            "Length of the training set: 4320 \n",
            " Length of the validation set:  480\n"
          ]
        }
      ]
    },
    {
      "cell_type": "code",
      "source": [
        "# scale the features between 0-1\n",
        "from sklearn.preprocessing import MinMaxScaler\n",
        "msc = MinMaxScaler()\n",
        "\n",
        "# Scale both the training inputs and outputs\n",
        "scaled_train= msc.fit_transform(train_df);\n",
        "scaled_train"
      ],
      "metadata": {
        "colab": {
          "base_uri": "https://localhost:8080/"
        },
        "id": "QZLrCkzHuVBw",
        "outputId": "90878b6d-d506-4548-9ce9-c0c349c669cc"
      },
      "id": "QZLrCkzHuVBw",
      "execution_count": 14,
      "outputs": [
        {
          "output_type": "execute_result",
          "data": {
            "text/plain": [
              "array([[0.6064257 , 1.        , 1.        , 1.        , 0.90372994],\n",
              "       [0.44578313, 0.5       , 1.        , 0.        , 0.25463638],\n",
              "       [0.1124498 , 1.        , 0.        , 1.        , 0.41550323],\n",
              "       ...,\n",
              "       [0.93975904, 0.25      , 1.        , 0.        , 0.63325693],\n",
              "       [0.93172691, 0.25      , 0.33333333, 0.        , 0.61325276],\n",
              "       [0.57831325, 0.75      , 0.        , 1.        , 0.80683476]])"
            ]
          },
          "metadata": {},
          "execution_count": 14
        }
      ]
    },
    {
      "cell_type": "code",
      "source": [
        "# scaling created a numpy array, so we need to convert it to dataframe object\n",
        "scaled_train_df = pd.DataFrame(scaled_train, columns=train_df.columns.values)\n",
        "scaled_train_df"
      ],
      "metadata": {
        "colab": {
          "base_uri": "https://localhost:8080/",
          "height": 424
        },
        "id": "3m8Ljp5Wxr3a",
        "outputId": "36f0d076-c26b-4749-e3a8-96f1fc9bd039"
      },
      "id": "3m8Ljp5Wxr3a",
      "execution_count": 15,
      "outputs": [
        {
          "output_type": "execute_result",
          "data": {
            "text/plain": [
              "        sqmtrs  nrooms      view  crime_rate     price\n",
              "0     0.606426    1.00  1.000000         1.0  0.903730\n",
              "1     0.445783    0.50  1.000000         0.0  0.254636\n",
              "2     0.112450    1.00  0.000000         1.0  0.415503\n",
              "3     0.313253    0.50  0.000000         0.0  0.156074\n",
              "4     0.526104    0.50  1.000000         1.0  0.691186\n",
              "...        ...     ...       ...         ...       ...\n",
              "4795  0.526104    1.00  0.000000         1.0  0.838716\n",
              "4796  0.518072    0.25  0.000000         1.0  0.621796\n",
              "4797  0.939759    0.25  1.000000         0.0  0.633257\n",
              "4798  0.931727    0.25  0.333333         0.0  0.613253\n",
              "4799  0.578313    0.75  0.000000         1.0  0.806835\n",
              "\n",
              "[4800 rows x 5 columns]"
            ],
            "text/html": [
              "\n",
              "  <div id=\"df-8e95618f-23b6-4395-9e57-2a5d18c57221\">\n",
              "    <div class=\"colab-df-container\">\n",
              "      <div>\n",
              "<style scoped>\n",
              "    .dataframe tbody tr th:only-of-type {\n",
              "        vertical-align: middle;\n",
              "    }\n",
              "\n",
              "    .dataframe tbody tr th {\n",
              "        vertical-align: top;\n",
              "    }\n",
              "\n",
              "    .dataframe thead th {\n",
              "        text-align: right;\n",
              "    }\n",
              "</style>\n",
              "<table border=\"1\" class=\"dataframe\">\n",
              "  <thead>\n",
              "    <tr style=\"text-align: right;\">\n",
              "      <th></th>\n",
              "      <th>sqmtrs</th>\n",
              "      <th>nrooms</th>\n",
              "      <th>view</th>\n",
              "      <th>crime_rate</th>\n",
              "      <th>price</th>\n",
              "    </tr>\n",
              "  </thead>\n",
              "  <tbody>\n",
              "    <tr>\n",
              "      <th>0</th>\n",
              "      <td>0.606426</td>\n",
              "      <td>1.00</td>\n",
              "      <td>1.000000</td>\n",
              "      <td>1.0</td>\n",
              "      <td>0.903730</td>\n",
              "    </tr>\n",
              "    <tr>\n",
              "      <th>1</th>\n",
              "      <td>0.445783</td>\n",
              "      <td>0.50</td>\n",
              "      <td>1.000000</td>\n",
              "      <td>0.0</td>\n",
              "      <td>0.254636</td>\n",
              "    </tr>\n",
              "    <tr>\n",
              "      <th>2</th>\n",
              "      <td>0.112450</td>\n",
              "      <td>1.00</td>\n",
              "      <td>0.000000</td>\n",
              "      <td>1.0</td>\n",
              "      <td>0.415503</td>\n",
              "    </tr>\n",
              "    <tr>\n",
              "      <th>3</th>\n",
              "      <td>0.313253</td>\n",
              "      <td>0.50</td>\n",
              "      <td>0.000000</td>\n",
              "      <td>0.0</td>\n",
              "      <td>0.156074</td>\n",
              "    </tr>\n",
              "    <tr>\n",
              "      <th>4</th>\n",
              "      <td>0.526104</td>\n",
              "      <td>0.50</td>\n",
              "      <td>1.000000</td>\n",
              "      <td>1.0</td>\n",
              "      <td>0.691186</td>\n",
              "    </tr>\n",
              "    <tr>\n",
              "      <th>...</th>\n",
              "      <td>...</td>\n",
              "      <td>...</td>\n",
              "      <td>...</td>\n",
              "      <td>...</td>\n",
              "      <td>...</td>\n",
              "    </tr>\n",
              "    <tr>\n",
              "      <th>4795</th>\n",
              "      <td>0.526104</td>\n",
              "      <td>1.00</td>\n",
              "      <td>0.000000</td>\n",
              "      <td>1.0</td>\n",
              "      <td>0.838716</td>\n",
              "    </tr>\n",
              "    <tr>\n",
              "      <th>4796</th>\n",
              "      <td>0.518072</td>\n",
              "      <td>0.25</td>\n",
              "      <td>0.000000</td>\n",
              "      <td>1.0</td>\n",
              "      <td>0.621796</td>\n",
              "    </tr>\n",
              "    <tr>\n",
              "      <th>4797</th>\n",
              "      <td>0.939759</td>\n",
              "      <td>0.25</td>\n",
              "      <td>1.000000</td>\n",
              "      <td>0.0</td>\n",
              "      <td>0.633257</td>\n",
              "    </tr>\n",
              "    <tr>\n",
              "      <th>4798</th>\n",
              "      <td>0.931727</td>\n",
              "      <td>0.25</td>\n",
              "      <td>0.333333</td>\n",
              "      <td>0.0</td>\n",
              "      <td>0.613253</td>\n",
              "    </tr>\n",
              "    <tr>\n",
              "      <th>4799</th>\n",
              "      <td>0.578313</td>\n",
              "      <td>0.75</td>\n",
              "      <td>0.000000</td>\n",
              "      <td>1.0</td>\n",
              "      <td>0.806835</td>\n",
              "    </tr>\n",
              "  </tbody>\n",
              "</table>\n",
              "<p>4800 rows × 5 columns</p>\n",
              "</div>\n",
              "      <button class=\"colab-df-convert\" onclick=\"convertToInteractive('df-8e95618f-23b6-4395-9e57-2a5d18c57221')\"\n",
              "              title=\"Convert this dataframe to an interactive table.\"\n",
              "              style=\"display:none;\">\n",
              "        \n",
              "  <svg xmlns=\"http://www.w3.org/2000/svg\" height=\"24px\"viewBox=\"0 0 24 24\"\n",
              "       width=\"24px\">\n",
              "    <path d=\"M0 0h24v24H0V0z\" fill=\"none\"/>\n",
              "    <path d=\"M18.56 5.44l.94 2.06.94-2.06 2.06-.94-2.06-.94-.94-2.06-.94 2.06-2.06.94zm-11 1L8.5 8.5l.94-2.06 2.06-.94-2.06-.94L8.5 2.5l-.94 2.06-2.06.94zm10 10l.94 2.06.94-2.06 2.06-.94-2.06-.94-.94-2.06-.94 2.06-2.06.94z\"/><path d=\"M17.41 7.96l-1.37-1.37c-.4-.4-.92-.59-1.43-.59-.52 0-1.04.2-1.43.59L10.3 9.45l-7.72 7.72c-.78.78-.78 2.05 0 2.83L4 21.41c.39.39.9.59 1.41.59.51 0 1.02-.2 1.41-.59l7.78-7.78 2.81-2.81c.8-.78.8-2.07 0-2.86zM5.41 20L4 18.59l7.72-7.72 1.47 1.35L5.41 20z\"/>\n",
              "  </svg>\n",
              "      </button>\n",
              "      \n",
              "  <style>\n",
              "    .colab-df-container {\n",
              "      display:flex;\n",
              "      flex-wrap:wrap;\n",
              "      gap: 12px;\n",
              "    }\n",
              "\n",
              "    .colab-df-convert {\n",
              "      background-color: #E8F0FE;\n",
              "      border: none;\n",
              "      border-radius: 50%;\n",
              "      cursor: pointer;\n",
              "      display: none;\n",
              "      fill: #1967D2;\n",
              "      height: 32px;\n",
              "      padding: 0 0 0 0;\n",
              "      width: 32px;\n",
              "    }\n",
              "\n",
              "    .colab-df-convert:hover {\n",
              "      background-color: #E2EBFA;\n",
              "      box-shadow: 0px 1px 2px rgba(60, 64, 67, 0.3), 0px 1px 3px 1px rgba(60, 64, 67, 0.15);\n",
              "      fill: #174EA6;\n",
              "    }\n",
              "\n",
              "    [theme=dark] .colab-df-convert {\n",
              "      background-color: #3B4455;\n",
              "      fill: #D2E3FC;\n",
              "    }\n",
              "\n",
              "    [theme=dark] .colab-df-convert:hover {\n",
              "      background-color: #434B5C;\n",
              "      box-shadow: 0px 1px 3px 1px rgba(0, 0, 0, 0.15);\n",
              "      filter: drop-shadow(0px 1px 2px rgba(0, 0, 0, 0.3));\n",
              "      fill: #FFFFFF;\n",
              "    }\n",
              "  </style>\n",
              "\n",
              "      <script>\n",
              "        const buttonEl =\n",
              "          document.querySelector('#df-8e95618f-23b6-4395-9e57-2a5d18c57221 button.colab-df-convert');\n",
              "        buttonEl.style.display =\n",
              "          google.colab.kernel.accessAllowed ? 'block' : 'none';\n",
              "\n",
              "        async function convertToInteractive(key) {\n",
              "          const element = document.querySelector('#df-8e95618f-23b6-4395-9e57-2a5d18c57221');\n",
              "          const dataTable =\n",
              "            await google.colab.kernel.invokeFunction('convertToInteractive',\n",
              "                                                     [key], {});\n",
              "          if (!dataTable) return;\n",
              "\n",
              "          const docLinkHtml = 'Like what you see? Visit the ' +\n",
              "            '<a target=\"_blank\" href=https://colab.research.google.com/notebooks/data_table.ipynb>data table notebook</a>'\n",
              "            + ' to learn more about interactive tables.';\n",
              "          element.innerHTML = '';\n",
              "          dataTable['output_type'] = 'display_data';\n",
              "          await google.colab.output.renderOutput(dataTable, element);\n",
              "          const docLink = document.createElement('div');\n",
              "          docLink.innerHTML = docLinkHtml;\n",
              "          element.appendChild(docLink);\n",
              "        }\n",
              "      </script>\n",
              "    </div>\n",
              "  </div>\n",
              "  "
            ]
          },
          "metadata": {},
          "execution_count": 15
        }
      ]
    },
    {
      "cell_type": "markdown",
      "metadata": {
        "id": "nnSUvg-OK9FP"
      },
      "source": [
        "Don't forget the split the training data to obtain a validation set. **Use random_state=42**"
      ],
      "id": "nnSUvg-OK9FP"
    },
    {
      "cell_type": "code",
      "source": [
        "# Define X:\n",
        "X = scaled_train_df[['sqmtrs',\t'nrooms',\t'view',\t'crime_rate']];\n",
        "\n",
        "# Define y:\n",
        "y = scaled_train_df['price'];"
      ],
      "metadata": {
        "id": "bjrnVW0tu5t0"
      },
      "id": "bjrnVW0tu5t0",
      "execution_count": 16,
      "outputs": []
    },
    {
      "cell_type": "code",
      "metadata": {
        "id": "WufovdxNK8sI",
        "colab": {
          "base_uri": "https://localhost:8080/"
        },
        "outputId": "1bdbe929-ecc2-4767-9485-795f5cb4bbe4"
      },
      "source": [
        "# split 90-10\n",
        "from sklearn.model_selection import train_test_split\n",
        "\n",
        "X_train, X_validation, y_train, y_validation = train_test_split(X, y, test_size=0.1, random_state=42);\n",
        "\n",
        "print(\"Length of the training set:\", len(y_train),\"\\n\",\n",
        "      \"Length of the validation set: \", len(y_validation)); "
      ],
      "id": "WufovdxNK8sI",
      "execution_count": 17,
      "outputs": [
        {
          "output_type": "stream",
          "name": "stdout",
          "text": [
            "Length of the training set: 4320 \n",
            " Length of the validation set:  480\n"
          ]
        }
      ]
    },
    {
      "cell_type": "code",
      "source": [
        "y_train"
      ],
      "metadata": {
        "colab": {
          "base_uri": "https://localhost:8080/"
        },
        "id": "2wXjTO61yPIn",
        "outputId": "c1fc4acf-5029-4aac-f71f-cd4c3b387b54"
      },
      "id": "2wXjTO61yPIn",
      "execution_count": 18,
      "outputs": [
        {
          "output_type": "execute_result",
          "data": {
            "text/plain": [
              "3839    0.248385\n",
              "3226    0.862680\n",
              "2894    0.752865\n",
              "1345    0.404668\n",
              "4713    0.686393\n",
              "          ...   \n",
              "4426    0.652428\n",
              "466     0.724943\n",
              "3092    0.469056\n",
              "3772    0.843509\n",
              "860     0.131694\n",
              "Name: price, Length: 4320, dtype: float64"
            ]
          },
          "metadata": {},
          "execution_count": 18
        }
      ]
    },
    {
      "cell_type": "markdown",
      "metadata": {
        "id": "hU-_nQ4IFuR3"
      },
      "source": [
        "##5) Train neural networks on development data and do model selection using the validation data (55 pts)\n",
        "\n",
        "\n",
        "* Train a neural network with **one hidden layer** (try 3 different values for the number of neurons in that hidden layer, as 25, 50, 100), you will need to correctly choose the optimizer and the loss function that this model will train with. Use batch_size as 64 and train each model for 30 epochs. \n",
        "\n",
        "* Train another neural network with two hidden layers with meta-parameters of your choice. Again, use batch_size as 64 and train the model for 30 epochs. \n",
        "\n",
        "* **Bonus (5 pts)** Train a KNN or a Decision Tree model with your own choice of meta parameters to predict the house prices.\n"
      ],
      "id": "hU-_nQ4IFuR3"
    },
    {
      "cell_type": "code",
      "source": [
        "import keras\n",
        "import keras.utils\n",
        "import tensorflow as tf\n",
        "from tensorflow.keras.utils import to_categorical\n",
        "from tensorflow.keras.optimizers import SGD, Adam"
      ],
      "metadata": {
        "id": "ZIsZ2N2VxK3c"
      },
      "id": "ZIsZ2N2VxK3c",
      "execution_count": 19,
      "outputs": []
    },
    {
      "cell_type": "code",
      "metadata": {
        "id": "bec4fb64",
        "colab": {
          "base_uri": "https://localhost:8080/"
        },
        "outputId": "8698d9f9-466c-41d6-9bad-79319f534146"
      },
      "source": [
        "# train one-hidden layered neural networks\n",
        "# define your model architecture\n",
        "# hidden layer 25\n",
        "model_25 = tf.keras.Sequential() #would create an empty network for us\n",
        "model_25.add(tf.keras.layers.Dense(25, activation='relu', name=\"hidden_layer1\"))\n",
        "model_25.add(tf.keras.layers.Dense(1, activation='linear', name=\"output_layer\"))\n",
        "\n",
        "\n",
        "model_25.compile(loss='mean_squared_error', optimizer=Adam(),metrics='accuracy')\n",
        "# model.compile(loss='mean_squared_error', optimizer=opt)\n",
        "\n",
        "histories=[]\n",
        "\n",
        "# fit the model on training data\n",
        "history_hidden_layer25 = model_25.fit(X_train, y_train, epochs=30, batch_size=64,shuffle=True,verbose=1)\n",
        "histories.append(history_hidden_layer25)"
      ],
      "id": "bec4fb64",
      "execution_count": 20,
      "outputs": [
        {
          "output_type": "stream",
          "name": "stdout",
          "text": [
            "Epoch 1/30\n",
            "68/68 [==============================] - 1s 2ms/step - loss: 0.0592 - accuracy: 2.3148e-04\n",
            "Epoch 2/30\n",
            "68/68 [==============================] - 0s 2ms/step - loss: 0.0105 - accuracy: 4.6296e-04\n",
            "Epoch 3/30\n",
            "68/68 [==============================] - 0s 2ms/step - loss: 0.0040 - accuracy: 4.6296e-04\n",
            "Epoch 4/30\n",
            "68/68 [==============================] - 0s 2ms/step - loss: 0.0028 - accuracy: 4.6296e-04\n",
            "Epoch 5/30\n",
            "68/68 [==============================] - 0s 2ms/step - loss: 0.0024 - accuracy: 4.6296e-04\n",
            "Epoch 6/30\n",
            "68/68 [==============================] - 0s 2ms/step - loss: 0.0021 - accuracy: 4.6296e-04\n",
            "Epoch 7/30\n",
            "68/68 [==============================] - 0s 2ms/step - loss: 0.0019 - accuracy: 4.6296e-04\n",
            "Epoch 8/30\n",
            "68/68 [==============================] - 0s 2ms/step - loss: 0.0018 - accuracy: 4.6296e-04\n",
            "Epoch 9/30\n",
            "68/68 [==============================] - 0s 2ms/step - loss: 0.0017 - accuracy: 4.6296e-04\n",
            "Epoch 10/30\n",
            "68/68 [==============================] - 0s 2ms/step - loss: 0.0017 - accuracy: 4.6296e-04\n",
            "Epoch 11/30\n",
            "68/68 [==============================] - 0s 2ms/step - loss: 0.0016 - accuracy: 4.6296e-04\n",
            "Epoch 12/30\n",
            "68/68 [==============================] - 0s 2ms/step - loss: 0.0016 - accuracy: 4.6296e-04\n",
            "Epoch 13/30\n",
            "68/68 [==============================] - 0s 2ms/step - loss: 0.0015 - accuracy: 4.6296e-04\n",
            "Epoch 14/30\n",
            "68/68 [==============================] - 0s 2ms/step - loss: 0.0015 - accuracy: 4.6296e-04\n",
            "Epoch 15/30\n",
            "68/68 [==============================] - 0s 2ms/step - loss: 0.0014 - accuracy: 4.6296e-04\n",
            "Epoch 16/30\n",
            "68/68 [==============================] - 0s 2ms/step - loss: 0.0014 - accuracy: 4.6296e-04\n",
            "Epoch 17/30\n",
            "68/68 [==============================] - 0s 2ms/step - loss: 0.0013 - accuracy: 4.6296e-04\n",
            "Epoch 18/30\n",
            "68/68 [==============================] - 0s 2ms/step - loss: 0.0013 - accuracy: 4.6296e-04\n",
            "Epoch 19/30\n",
            "68/68 [==============================] - 0s 2ms/step - loss: 0.0013 - accuracy: 4.6296e-04\n",
            "Epoch 20/30\n",
            "68/68 [==============================] - 0s 2ms/step - loss: 0.0012 - accuracy: 4.6296e-04\n",
            "Epoch 21/30\n",
            "68/68 [==============================] - 0s 2ms/step - loss: 0.0011 - accuracy: 4.6296e-04\n",
            "Epoch 22/30\n",
            "68/68 [==============================] - 0s 2ms/step - loss: 0.0011 - accuracy: 4.6296e-04\n",
            "Epoch 23/30\n",
            "68/68 [==============================] - 0s 2ms/step - loss: 0.0010 - accuracy: 4.6296e-04\n",
            "Epoch 24/30\n",
            "68/68 [==============================] - 0s 2ms/step - loss: 9.7027e-04 - accuracy: 4.6296e-04\n",
            "Epoch 25/30\n",
            "68/68 [==============================] - 0s 2ms/step - loss: 9.0714e-04 - accuracy: 4.6296e-04\n",
            "Epoch 26/30\n",
            "68/68 [==============================] - 0s 2ms/step - loss: 8.5188e-04 - accuracy: 4.6296e-04\n",
            "Epoch 27/30\n",
            "68/68 [==============================] - 0s 2ms/step - loss: 7.9945e-04 - accuracy: 4.6296e-04\n",
            "Epoch 28/30\n",
            "68/68 [==============================] - 0s 2ms/step - loss: 7.3300e-04 - accuracy: 4.6296e-04\n",
            "Epoch 29/30\n",
            "68/68 [==============================] - 0s 2ms/step - loss: 6.8278e-04 - accuracy: 4.6296e-04\n",
            "Epoch 30/30\n",
            "68/68 [==============================] - 0s 2ms/step - loss: 6.3352e-04 - accuracy: 4.6296e-04\n"
          ]
        }
      ]
    },
    {
      "cell_type": "code",
      "source": [
        "# hidden layer 50\n",
        "model_50 = tf.keras.Sequential() #would create an empty network for us\n",
        "model_50.add(tf.keras.layers.Dense(50, activation='relu', name=\"hidden_layer1\"))\n",
        "model_50.add(tf.keras.layers.Dense(1, activation='linear', name=\"output_layer\"))\n",
        "\n",
        "model_50.compile(loss='mean_squared_error', optimizer=Adam())\n",
        "\n",
        "history_hidden_layer50 = model_50.fit(X_train, y_train, epochs=30, batch_size=64,shuffle=True,verbose=1)\n",
        "histories.append(history_hidden_layer50)"
      ],
      "metadata": {
        "colab": {
          "base_uri": "https://localhost:8080/"
        },
        "id": "maQGxOvURneO",
        "outputId": "036a986a-8b66-4905-dfe8-3ce6acea9277"
      },
      "id": "maQGxOvURneO",
      "execution_count": 21,
      "outputs": [
        {
          "output_type": "stream",
          "name": "stdout",
          "text": [
            "Epoch 1/30\n",
            "68/68 [==============================] - 0s 1ms/step - loss: 0.0420\n",
            "Epoch 2/30\n",
            "68/68 [==============================] - 0s 2ms/step - loss: 0.0057\n",
            "Epoch 3/30\n",
            "68/68 [==============================] - 0s 2ms/step - loss: 0.0026\n",
            "Epoch 4/30\n",
            "68/68 [==============================] - 0s 2ms/step - loss: 0.0018\n",
            "Epoch 5/30\n",
            "68/68 [==============================] - 0s 2ms/step - loss: 0.0015\n",
            "Epoch 6/30\n",
            "68/68 [==============================] - 0s 1ms/step - loss: 0.0013\n",
            "Epoch 7/30\n",
            "68/68 [==============================] - 0s 2ms/step - loss: 0.0012\n",
            "Epoch 8/30\n",
            "68/68 [==============================] - 0s 3ms/step - loss: 0.0011\n",
            "Epoch 9/30\n",
            "68/68 [==============================] - 0s 3ms/step - loss: 0.0010\n",
            "Epoch 10/30\n",
            "68/68 [==============================] - 0s 3ms/step - loss: 9.7631e-04\n",
            "Epoch 11/30\n",
            "68/68 [==============================] - 0s 3ms/step - loss: 9.2154e-04\n",
            "Epoch 12/30\n",
            "68/68 [==============================] - 0s 3ms/step - loss: 8.7990e-04\n",
            "Epoch 13/30\n",
            "68/68 [==============================] - 0s 3ms/step - loss: 8.4531e-04\n",
            "Epoch 14/30\n",
            "68/68 [==============================] - 0s 3ms/step - loss: 8.1071e-04\n",
            "Epoch 15/30\n",
            "68/68 [==============================] - 0s 2ms/step - loss: 7.7493e-04\n",
            "Epoch 16/30\n",
            "68/68 [==============================] - 0s 3ms/step - loss: 7.4467e-04\n",
            "Epoch 17/30\n",
            "68/68 [==============================] - 0s 3ms/step - loss: 7.0570e-04\n",
            "Epoch 18/30\n",
            "68/68 [==============================] - 0s 3ms/step - loss: 6.6832e-04\n",
            "Epoch 19/30\n",
            "68/68 [==============================] - 0s 3ms/step - loss: 6.3281e-04\n",
            "Epoch 20/30\n",
            "68/68 [==============================] - 0s 4ms/step - loss: 6.0136e-04\n",
            "Epoch 21/30\n",
            "68/68 [==============================] - 0s 1ms/step - loss: 5.7350e-04\n",
            "Epoch 22/30\n",
            "68/68 [==============================] - 0s 2ms/step - loss: 5.4133e-04\n",
            "Epoch 23/30\n",
            "68/68 [==============================] - 0s 2ms/step - loss: 5.0855e-04\n",
            "Epoch 24/30\n",
            "68/68 [==============================] - 0s 1ms/step - loss: 4.8229e-04\n",
            "Epoch 25/30\n",
            "68/68 [==============================] - 0s 2ms/step - loss: 4.5693e-04\n",
            "Epoch 26/30\n",
            "68/68 [==============================] - 0s 2ms/step - loss: 4.3698e-04\n",
            "Epoch 27/30\n",
            "68/68 [==============================] - 0s 1ms/step - loss: 4.1969e-04\n",
            "Epoch 28/30\n",
            "68/68 [==============================] - 0s 2ms/step - loss: 3.9224e-04\n",
            "Epoch 29/30\n",
            "68/68 [==============================] - 0s 2ms/step - loss: 3.6994e-04\n",
            "Epoch 30/30\n",
            "68/68 [==============================] - 0s 2ms/step - loss: 3.5633e-04\n"
          ]
        }
      ]
    },
    {
      "cell_type": "code",
      "source": [
        "# hidden layer 100\n",
        "model_100 = tf.keras.Sequential() #would create an empty network for us\n",
        "model_100.add(tf.keras.layers.Dense(100, activation='relu', name=\"hidden_layer1\"))\n",
        "model_100.add(tf.keras.layers.Dense(1, activation='linear', name=\"output_layer\"))\n",
        "\n",
        "model_100.compile(loss='mean_squared_error', optimizer=Adam())\n",
        "\n",
        "history_hidden_layer100 = model_100.fit(X_train, y_train, epochs=30, batch_size=64,shuffle=True,verbose=1)\n",
        "histories.append(history_hidden_layer100)"
      ],
      "metadata": {
        "colab": {
          "base_uri": "https://localhost:8080/"
        },
        "id": "RupeRdnkR29c",
        "outputId": "36e24bcb-f888-4ade-db17-68b6bef214df"
      },
      "id": "RupeRdnkR29c",
      "execution_count": 22,
      "outputs": [
        {
          "output_type": "stream",
          "name": "stdout",
          "text": [
            "Epoch 1/30\n",
            "68/68 [==============================] - 0s 2ms/step - loss: 0.0741\n",
            "Epoch 2/30\n",
            "68/68 [==============================] - 0s 2ms/step - loss: 0.0060\n",
            "Epoch 3/30\n",
            "68/68 [==============================] - 0s 2ms/step - loss: 0.0021\n",
            "Epoch 4/30\n",
            "68/68 [==============================] - 0s 2ms/step - loss: 0.0015\n",
            "Epoch 5/30\n",
            "68/68 [==============================] - 0s 2ms/step - loss: 0.0013\n",
            "Epoch 6/30\n",
            "68/68 [==============================] - 0s 2ms/step - loss: 0.0011\n",
            "Epoch 7/30\n",
            "68/68 [==============================] - 0s 2ms/step - loss: 9.9354e-04\n",
            "Epoch 8/30\n",
            "68/68 [==============================] - 0s 2ms/step - loss: 9.1868e-04\n",
            "Epoch 9/30\n",
            "68/68 [==============================] - 0s 2ms/step - loss: 8.4788e-04\n",
            "Epoch 10/30\n",
            "68/68 [==============================] - 0s 2ms/step - loss: 7.9559e-04\n",
            "Epoch 11/30\n",
            "68/68 [==============================] - 0s 3ms/step - loss: 7.4994e-04\n",
            "Epoch 12/30\n",
            "68/68 [==============================] - 0s 6ms/step - loss: 6.9863e-04\n",
            "Epoch 13/30\n",
            "68/68 [==============================] - 0s 2ms/step - loss: 6.6317e-04\n",
            "Epoch 14/30\n",
            "68/68 [==============================] - 0s 2ms/step - loss: 6.2176e-04\n",
            "Epoch 15/30\n",
            "68/68 [==============================] - 0s 2ms/step - loss: 5.8069e-04\n",
            "Epoch 16/30\n",
            "68/68 [==============================] - 0s 4ms/step - loss: 5.3368e-04\n",
            "Epoch 17/30\n",
            "68/68 [==============================] - 0s 5ms/step - loss: 4.9440e-04\n",
            "Epoch 18/30\n",
            "68/68 [==============================] - 0s 3ms/step - loss: 4.5041e-04\n",
            "Epoch 19/30\n",
            "68/68 [==============================] - 0s 2ms/step - loss: 4.2787e-04\n",
            "Epoch 20/30\n",
            "68/68 [==============================] - 0s 2ms/step - loss: 3.8858e-04\n",
            "Epoch 21/30\n",
            "68/68 [==============================] - 0s 2ms/step - loss: 3.5661e-04\n",
            "Epoch 22/30\n",
            "68/68 [==============================] - 0s 2ms/step - loss: 3.2777e-04\n",
            "Epoch 23/30\n",
            "68/68 [==============================] - 0s 2ms/step - loss: 3.0283e-04\n",
            "Epoch 24/30\n",
            "68/68 [==============================] - 0s 2ms/step - loss: 2.8376e-04\n",
            "Epoch 25/30\n",
            "68/68 [==============================] - 0s 2ms/step - loss: 2.6991e-04\n",
            "Epoch 26/30\n",
            "68/68 [==============================] - 0s 2ms/step - loss: 2.5449e-04\n",
            "Epoch 27/30\n",
            "68/68 [==============================] - 0s 2ms/step - loss: 2.3978e-04\n",
            "Epoch 28/30\n",
            "68/68 [==============================] - 0s 2ms/step - loss: 2.3187e-04\n",
            "Epoch 29/30\n",
            "68/68 [==============================] - 0s 2ms/step - loss: 2.1782e-04\n",
            "Epoch 30/30\n",
            "68/68 [==============================] - 0s 2ms/step - loss: 2.0836e-04\n"
          ]
        }
      ]
    },
    {
      "cell_type": "code",
      "metadata": {
        "id": "13b3d502",
        "colab": {
          "base_uri": "https://localhost:8080/"
        },
        "outputId": "dc54852d-724b-402d-df92-449f011e60d0"
      },
      "source": [
        "# train a two-hidden layered neural network\n",
        "training_model = tf.keras.Sequential() #would create an empty network for us\n",
        "training_model.add(tf.keras.layers.Dense(250, activation='relu', name=\"hidden_layer1\"))\n",
        "training_model.add(tf.keras.layers.Dense(100, activation='relu', name=\"hidden_layer2\"))\n",
        "training_model.add(tf.keras.layers.Dense(1, activation='linear', name=\"output_layer\"))\n",
        "# ...\n",
        "training_model.compile(loss='mean_squared_error', optimizer=Adam())\n",
        "history1 = training_model.fit(X_train, y_train, epochs=30, batch_size=64,shuffle=True,verbose=1)\n",
        "histories.append(history1)"
      ],
      "id": "13b3d502",
      "execution_count": 42,
      "outputs": [
        {
          "output_type": "stream",
          "name": "stdout",
          "text": [
            "Epoch 1/30\n",
            "68/68 [==============================] - 1s 6ms/step - loss: 0.0120\n",
            "Epoch 2/30\n",
            "68/68 [==============================] - 0s 4ms/step - loss: 8.8759e-04\n",
            "Epoch 3/30\n",
            "68/68 [==============================] - 0s 5ms/step - loss: 4.6464e-04\n",
            "Epoch 4/30\n",
            "68/68 [==============================] - 0s 4ms/step - loss: 2.8565e-04\n",
            "Epoch 5/30\n",
            "68/68 [==============================] - 0s 4ms/step - loss: 2.4100e-04\n",
            "Epoch 6/30\n",
            "68/68 [==============================] - 0s 4ms/step - loss: 2.0635e-04\n",
            "Epoch 7/30\n",
            "68/68 [==============================] - 0s 6ms/step - loss: 1.8144e-04\n",
            "Epoch 8/30\n",
            "68/68 [==============================] - 0s 6ms/step - loss: 1.6497e-04\n",
            "Epoch 9/30\n",
            "68/68 [==============================] - 0s 3ms/step - loss: 1.5940e-04\n",
            "Epoch 10/30\n",
            "68/68 [==============================] - 0s 3ms/step - loss: 1.5332e-04\n",
            "Epoch 11/30\n",
            "68/68 [==============================] - 0s 3ms/step - loss: 1.4934e-04\n",
            "Epoch 12/30\n",
            "68/68 [==============================] - 0s 3ms/step - loss: 1.4259e-04\n",
            "Epoch 13/30\n",
            "68/68 [==============================] - 0s 3ms/step - loss: 1.2648e-04\n",
            "Epoch 14/30\n",
            "68/68 [==============================] - 0s 3ms/step - loss: 1.5959e-04\n",
            "Epoch 15/30\n",
            "68/68 [==============================] - 0s 2ms/step - loss: 1.5600e-04\n",
            "Epoch 16/30\n",
            "68/68 [==============================] - 0s 2ms/step - loss: 1.3195e-04\n",
            "Epoch 17/30\n",
            "68/68 [==============================] - 0s 3ms/step - loss: 1.3975e-04\n",
            "Epoch 18/30\n",
            "68/68 [==============================] - 0s 3ms/step - loss: 1.2684e-04\n",
            "Epoch 19/30\n",
            "68/68 [==============================] - 0s 3ms/step - loss: 1.1673e-04\n",
            "Epoch 20/30\n",
            "68/68 [==============================] - 0s 3ms/step - loss: 1.4628e-04\n",
            "Epoch 21/30\n",
            "68/68 [==============================] - 0s 3ms/step - loss: 1.2114e-04\n",
            "Epoch 22/30\n",
            "68/68 [==============================] - 0s 3ms/step - loss: 1.3689e-04\n",
            "Epoch 23/30\n",
            "68/68 [==============================] - 0s 3ms/step - loss: 1.4021e-04\n",
            "Epoch 24/30\n",
            "68/68 [==============================] - 0s 3ms/step - loss: 1.4228e-04\n",
            "Epoch 25/30\n",
            "68/68 [==============================] - 0s 3ms/step - loss: 1.4844e-04\n",
            "Epoch 26/30\n",
            "68/68 [==============================] - 0s 3ms/step - loss: 1.4448e-04\n",
            "Epoch 27/30\n",
            "68/68 [==============================] - 0s 2ms/step - loss: 1.1887e-04\n",
            "Epoch 28/30\n",
            "68/68 [==============================] - 0s 3ms/step - loss: 1.2457e-04\n",
            "Epoch 29/30\n",
            "68/68 [==============================] - 0s 2ms/step - loss: 1.3586e-04\n",
            "Epoch 30/30\n",
            "68/68 [==============================] - 0s 2ms/step - loss: 2.3314e-04\n"
          ]
        }
      ]
    },
    {
      "cell_type": "code",
      "source": [
        "#Before testing my training classifiers on the validation set,\n",
        "#I decided to put learning rate by manually to see the effect of the optimizers on my training clearly.\n",
        "#I chose to two hidden layered model because which gives me the best result compare to others.\n",
        "# train a two-hidden layered neural network\n",
        "\n",
        "model_learning_rate = tf.keras.Sequential() #would create an empty network for us\n",
        "model_learning_rate.add(tf.keras.layers.Dense(250, activation='relu', name=\"hidden_layer1\"))\n",
        "model_learning_rate.add(tf.keras.layers.Dense(100, activation='relu', name=\"hidden_layer2\"))\n",
        "model_learning_rate.add(tf.keras.layers.Dense(1, activation='linear', name=\"output_layer\"))\n",
        "\n",
        "opt=SGD(learning_rate=0.001);\n",
        "model_learning_rate.compile(loss='mean_squared_error', optimizer=opt)\n",
        "history_learning_rate = model_learning_rate.fit(X_train, y_train, epochs=70, batch_size=64,shuffle=True,verbose=1)\n",
        "history_learning_rate"
      ],
      "metadata": {
        "colab": {
          "base_uri": "https://localhost:8080/"
        },
        "id": "1utCVFJzG2gV",
        "outputId": "1c20d29c-52a8-4351-f75c-d4f50074e259"
      },
      "id": "1utCVFJzG2gV",
      "execution_count": 24,
      "outputs": [
        {
          "output_type": "stream",
          "name": "stdout",
          "text": [
            "Epoch 1/70\n",
            "68/68 [==============================] - 0s 2ms/step - loss: 0.2280\n",
            "Epoch 2/70\n",
            "68/68 [==============================] - 0s 2ms/step - loss: 0.1009\n",
            "Epoch 3/70\n",
            "68/68 [==============================] - 0s 2ms/step - loss: 0.0657\n",
            "Epoch 4/70\n",
            "68/68 [==============================] - 0s 2ms/step - loss: 0.0547\n",
            "Epoch 5/70\n",
            "68/68 [==============================] - 0s 2ms/step - loss: 0.0499\n",
            "Epoch 6/70\n",
            "68/68 [==============================] - 0s 2ms/step - loss: 0.0467\n",
            "Epoch 7/70\n",
            "68/68 [==============================] - 0s 2ms/step - loss: 0.0441\n",
            "Epoch 8/70\n",
            "68/68 [==============================] - 0s 2ms/step - loss: 0.0418\n",
            "Epoch 9/70\n",
            "68/68 [==============================] - 0s 2ms/step - loss: 0.0396\n",
            "Epoch 10/70\n",
            "68/68 [==============================] - 0s 2ms/step - loss: 0.0376\n",
            "Epoch 11/70\n",
            "68/68 [==============================] - 0s 2ms/step - loss: 0.0358\n",
            "Epoch 12/70\n",
            "68/68 [==============================] - 0s 2ms/step - loss: 0.0341\n",
            "Epoch 13/70\n",
            "68/68 [==============================] - 0s 2ms/step - loss: 0.0325\n",
            "Epoch 14/70\n",
            "68/68 [==============================] - 0s 2ms/step - loss: 0.0310\n",
            "Epoch 15/70\n",
            "68/68 [==============================] - 0s 2ms/step - loss: 0.0295\n",
            "Epoch 16/70\n",
            "68/68 [==============================] - 0s 3ms/step - loss: 0.0282\n",
            "Epoch 17/70\n",
            "68/68 [==============================] - 0s 2ms/step - loss: 0.0269\n",
            "Epoch 18/70\n",
            "68/68 [==============================] - 0s 2ms/step - loss: 0.0257\n",
            "Epoch 19/70\n",
            "68/68 [==============================] - 0s 2ms/step - loss: 0.0245\n",
            "Epoch 20/70\n",
            "68/68 [==============================] - 0s 2ms/step - loss: 0.0235\n",
            "Epoch 21/70\n",
            "68/68 [==============================] - 0s 2ms/step - loss: 0.0224\n",
            "Epoch 22/70\n",
            "68/68 [==============================] - 0s 2ms/step - loss: 0.0214\n",
            "Epoch 23/70\n",
            "68/68 [==============================] - 0s 2ms/step - loss: 0.0205\n",
            "Epoch 24/70\n",
            "68/68 [==============================] - 0s 2ms/step - loss: 0.0196\n",
            "Epoch 25/70\n",
            "68/68 [==============================] - 0s 2ms/step - loss: 0.0188\n",
            "Epoch 26/70\n",
            "68/68 [==============================] - 0s 2ms/step - loss: 0.0180\n",
            "Epoch 27/70\n",
            "68/68 [==============================] - 0s 2ms/step - loss: 0.0172\n",
            "Epoch 28/70\n",
            "68/68 [==============================] - 0s 2ms/step - loss: 0.0165\n",
            "Epoch 29/70\n",
            "68/68 [==============================] - 0s 2ms/step - loss: 0.0158\n",
            "Epoch 30/70\n",
            "68/68 [==============================] - 0s 2ms/step - loss: 0.0151\n",
            "Epoch 31/70\n",
            "68/68 [==============================] - 0s 2ms/step - loss: 0.0145\n",
            "Epoch 32/70\n",
            "68/68 [==============================] - 0s 2ms/step - loss: 0.0138\n",
            "Epoch 33/70\n",
            "68/68 [==============================] - 0s 2ms/step - loss: 0.0133\n",
            "Epoch 34/70\n",
            "68/68 [==============================] - 0s 2ms/step - loss: 0.0127\n",
            "Epoch 35/70\n",
            "68/68 [==============================] - 0s 2ms/step - loss: 0.0122\n",
            "Epoch 36/70\n",
            "68/68 [==============================] - 0s 2ms/step - loss: 0.0117\n",
            "Epoch 37/70\n",
            "68/68 [==============================] - 0s 2ms/step - loss: 0.0112\n",
            "Epoch 38/70\n",
            "68/68 [==============================] - 0s 2ms/step - loss: 0.0107\n",
            "Epoch 39/70\n",
            "68/68 [==============================] - 0s 2ms/step - loss: 0.0103\n",
            "Epoch 40/70\n",
            "68/68 [==============================] - 0s 2ms/step - loss: 0.0099\n",
            "Epoch 41/70\n",
            "68/68 [==============================] - 0s 2ms/step - loss: 0.0095\n",
            "Epoch 42/70\n",
            "68/68 [==============================] - 0s 2ms/step - loss: 0.0091\n",
            "Epoch 43/70\n",
            "68/68 [==============================] - 0s 2ms/step - loss: 0.0088\n",
            "Epoch 44/70\n",
            "68/68 [==============================] - 0s 2ms/step - loss: 0.0084\n",
            "Epoch 45/70\n",
            "68/68 [==============================] - 0s 2ms/step - loss: 0.0081\n",
            "Epoch 46/70\n",
            "68/68 [==============================] - 0s 2ms/step - loss: 0.0078\n",
            "Epoch 47/70\n",
            "68/68 [==============================] - 0s 2ms/step - loss: 0.0075\n",
            "Epoch 48/70\n",
            "68/68 [==============================] - 0s 2ms/step - loss: 0.0072\n",
            "Epoch 49/70\n",
            "68/68 [==============================] - 0s 2ms/step - loss: 0.0069\n",
            "Epoch 50/70\n",
            "68/68 [==============================] - 0s 2ms/step - loss: 0.0067\n",
            "Epoch 51/70\n",
            "68/68 [==============================] - 0s 2ms/step - loss: 0.0065\n",
            "Epoch 52/70\n",
            "68/68 [==============================] - 0s 2ms/step - loss: 0.0062\n",
            "Epoch 53/70\n",
            "68/68 [==============================] - 0s 2ms/step - loss: 0.0060\n",
            "Epoch 54/70\n",
            "68/68 [==============================] - 0s 2ms/step - loss: 0.0058\n",
            "Epoch 55/70\n",
            "68/68 [==============================] - 0s 2ms/step - loss: 0.0056\n",
            "Epoch 56/70\n",
            "68/68 [==============================] - 0s 2ms/step - loss: 0.0054\n",
            "Epoch 57/70\n",
            "68/68 [==============================] - 0s 2ms/step - loss: 0.0053\n",
            "Epoch 58/70\n",
            "68/68 [==============================] - 0s 2ms/step - loss: 0.0051\n",
            "Epoch 59/70\n",
            "68/68 [==============================] - 0s 2ms/step - loss: 0.0049\n",
            "Epoch 60/70\n",
            "68/68 [==============================] - 0s 2ms/step - loss: 0.0048\n",
            "Epoch 61/70\n",
            "68/68 [==============================] - 0s 2ms/step - loss: 0.0046\n",
            "Epoch 62/70\n",
            "68/68 [==============================] - 0s 2ms/step - loss: 0.0045\n",
            "Epoch 63/70\n",
            "68/68 [==============================] - 0s 2ms/step - loss: 0.0044\n",
            "Epoch 64/70\n",
            "68/68 [==============================] - 0s 2ms/step - loss: 0.0043\n",
            "Epoch 65/70\n",
            "68/68 [==============================] - 0s 2ms/step - loss: 0.0041\n",
            "Epoch 66/70\n",
            "68/68 [==============================] - 0s 2ms/step - loss: 0.0040\n",
            "Epoch 67/70\n",
            "68/68 [==============================] - 0s 2ms/step - loss: 0.0039\n",
            "Epoch 68/70\n",
            "68/68 [==============================] - 0s 2ms/step - loss: 0.0038\n",
            "Epoch 69/70\n",
            "68/68 [==============================] - 0s 2ms/step - loss: 0.0037\n",
            "Epoch 70/70\n",
            "68/68 [==============================] - 0s 2ms/step - loss: 0.0037\n"
          ]
        },
        {
          "output_type": "execute_result",
          "data": {
            "text/plain": [
              "<keras.callbacks.History at 0x7f870ea370d0>"
            ]
          },
          "metadata": {},
          "execution_count": 24
        }
      ]
    },
    {
      "cell_type": "code",
      "source": [
        "\n",
        "model_learning_rate = tf.keras.Sequential() #would create an empty network for us\n",
        "model_learning_rate.add(tf.keras.layers.Dense(250, activation='relu', name=\"hidden_layer1\"))\n",
        "model_learning_rate.add(tf.keras.layers.Dense(100, activation='relu', name=\"hidden_layer2\"))\n",
        "model_learning_rate.add(tf.keras.layers.Dense(1, activation='linear', name=\"output_layer\"))\n",
        "\n",
        "opt=SGD(learning_rate=0.01);\n",
        "model_learning_rate.compile(loss='mean_squared_error', optimizer=opt)\n",
        "history_learning_rate = model_learning_rate.fit(X_train, y_train, epochs=50, batch_size=64,shuffle=True,verbose=1)\n",
        "history_learning_rate"
      ],
      "metadata": {
        "colab": {
          "base_uri": "https://localhost:8080/"
        },
        "id": "_I9p__TvHx9k",
        "outputId": "8623b221-b167-438b-b542-7a5de926bf29"
      },
      "id": "_I9p__TvHx9k",
      "execution_count": 25,
      "outputs": [
        {
          "output_type": "stream",
          "name": "stdout",
          "text": [
            "Epoch 1/50\n",
            "68/68 [==============================] - 0s 2ms/step - loss: 0.0642\n",
            "Epoch 2/50\n",
            "68/68 [==============================] - 0s 2ms/step - loss: 0.0238\n",
            "Epoch 3/50\n",
            "68/68 [==============================] - 0s 2ms/step - loss: 0.0149\n",
            "Epoch 4/50\n",
            "68/68 [==============================] - 0s 2ms/step - loss: 0.0098\n",
            "Epoch 5/50\n",
            "68/68 [==============================] - 0s 2ms/step - loss: 0.0067\n",
            "Epoch 6/50\n",
            "68/68 [==============================] - 0s 2ms/step - loss: 0.0049\n",
            "Epoch 7/50\n",
            "68/68 [==============================] - 0s 2ms/step - loss: 0.0038\n",
            "Epoch 8/50\n",
            "68/68 [==============================] - 0s 2ms/step - loss: 0.0031\n",
            "Epoch 9/50\n",
            "68/68 [==============================] - 0s 2ms/step - loss: 0.0027\n",
            "Epoch 10/50\n",
            "68/68 [==============================] - 0s 2ms/step - loss: 0.0024\n",
            "Epoch 11/50\n",
            "68/68 [==============================] - 0s 2ms/step - loss: 0.0022\n",
            "Epoch 12/50\n",
            "68/68 [==============================] - 0s 2ms/step - loss: 0.0021\n",
            "Epoch 13/50\n",
            "68/68 [==============================] - 0s 3ms/step - loss: 0.0020\n",
            "Epoch 14/50\n",
            "68/68 [==============================] - 0s 2ms/step - loss: 0.0019\n",
            "Epoch 15/50\n",
            "68/68 [==============================] - 0s 2ms/step - loss: 0.0018\n",
            "Epoch 16/50\n",
            "68/68 [==============================] - 0s 2ms/step - loss: 0.0018\n",
            "Epoch 17/50\n",
            "68/68 [==============================] - 0s 2ms/step - loss: 0.0017\n",
            "Epoch 18/50\n",
            "68/68 [==============================] - 0s 2ms/step - loss: 0.0017\n",
            "Epoch 19/50\n",
            "68/68 [==============================] - 0s 2ms/step - loss: 0.0016\n",
            "Epoch 20/50\n",
            "68/68 [==============================] - 0s 2ms/step - loss: 0.0016\n",
            "Epoch 21/50\n",
            "68/68 [==============================] - 0s 2ms/step - loss: 0.0016\n",
            "Epoch 22/50\n",
            "68/68 [==============================] - 0s 2ms/step - loss: 0.0015\n",
            "Epoch 23/50\n",
            "68/68 [==============================] - 0s 2ms/step - loss: 0.0015\n",
            "Epoch 24/50\n",
            "68/68 [==============================] - 0s 2ms/step - loss: 0.0015\n",
            "Epoch 25/50\n",
            "68/68 [==============================] - 0s 2ms/step - loss: 0.0014\n",
            "Epoch 26/50\n",
            "68/68 [==============================] - 0s 2ms/step - loss: 0.0014\n",
            "Epoch 27/50\n",
            "68/68 [==============================] - 0s 2ms/step - loss: 0.0014\n",
            "Epoch 28/50\n",
            "68/68 [==============================] - 0s 2ms/step - loss: 0.0014\n",
            "Epoch 29/50\n",
            "68/68 [==============================] - 0s 2ms/step - loss: 0.0014\n",
            "Epoch 30/50\n",
            "68/68 [==============================] - 0s 2ms/step - loss: 0.0013\n",
            "Epoch 31/50\n",
            "68/68 [==============================] - 0s 2ms/step - loss: 0.0013\n",
            "Epoch 32/50\n",
            "68/68 [==============================] - 0s 2ms/step - loss: 0.0013\n",
            "Epoch 33/50\n",
            "68/68 [==============================] - 0s 2ms/step - loss: 0.0013\n",
            "Epoch 34/50\n",
            "68/68 [==============================] - 0s 2ms/step - loss: 0.0013\n",
            "Epoch 35/50\n",
            "68/68 [==============================] - 0s 2ms/step - loss: 0.0012\n",
            "Epoch 36/50\n",
            "68/68 [==============================] - 0s 2ms/step - loss: 0.0012\n",
            "Epoch 37/50\n",
            "68/68 [==============================] - 0s 2ms/step - loss: 0.0012\n",
            "Epoch 38/50\n",
            "68/68 [==============================] - 0s 2ms/step - loss: 0.0012\n",
            "Epoch 39/50\n",
            "68/68 [==============================] - 0s 2ms/step - loss: 0.0012\n",
            "Epoch 40/50\n",
            "68/68 [==============================] - 0s 2ms/step - loss: 0.0012\n",
            "Epoch 41/50\n",
            "68/68 [==============================] - 0s 2ms/step - loss: 0.0011\n",
            "Epoch 42/50\n",
            "68/68 [==============================] - 0s 2ms/step - loss: 0.0011\n",
            "Epoch 43/50\n",
            "68/68 [==============================] - 0s 2ms/step - loss: 0.0011\n",
            "Epoch 44/50\n",
            "68/68 [==============================] - 0s 2ms/step - loss: 0.0011\n",
            "Epoch 45/50\n",
            "68/68 [==============================] - 0s 2ms/step - loss: 0.0011\n",
            "Epoch 46/50\n",
            "68/68 [==============================] - 0s 2ms/step - loss: 0.0011\n",
            "Epoch 47/50\n",
            "68/68 [==============================] - 0s 2ms/step - loss: 0.0010\n",
            "Epoch 48/50\n",
            "68/68 [==============================] - 0s 2ms/step - loss: 0.0010\n",
            "Epoch 49/50\n",
            "68/68 [==============================] - 0s 2ms/step - loss: 0.0010\n",
            "Epoch 50/50\n",
            "68/68 [==============================] - 0s 2ms/step - loss: 0.0010\n"
          ]
        },
        {
          "output_type": "execute_result",
          "data": {
            "text/plain": [
              "<keras.callbacks.History at 0x7f870e9d6750>"
            ]
          },
          "metadata": {},
          "execution_count": 25
        }
      ]
    },
    {
      "cell_type": "code",
      "source": [
        "model_learning_rate = tf.keras.Sequential() #would create an empty network for us\n",
        "model_learning_rate.add(tf.keras.layers.Dense(250, activation='relu', name=\"hidden_layer1\"))\n",
        "model_learning_rate.add(tf.keras.layers.Dense(100, activation='relu', name=\"hidden_layer2\"))\n",
        "model_learning_rate.add(tf.keras.layers.Dense(1, activation='linear', name=\"output_layer\"))\n",
        "\n",
        "opt=SGD(learning_rate=0.1);\n",
        "model_learning_rate.compile(loss='mean_squared_error', optimizer=opt)\n",
        "history_learning_rate = model_learning_rate.fit(X_train, y_train, epochs=30, batch_size=64,shuffle=True,verbose=1)\n",
        "history_learning_rate"
      ],
      "metadata": {
        "colab": {
          "base_uri": "https://localhost:8080/"
        },
        "id": "ywKj4-xUK5vr",
        "outputId": "8219cb1e-cfd7-4862-a5c8-fd04861452a6"
      },
      "id": "ywKj4-xUK5vr",
      "execution_count": 26,
      "outputs": [
        {
          "output_type": "stream",
          "name": "stdout",
          "text": [
            "Epoch 1/30\n",
            "68/68 [==============================] - 1s 2ms/step - loss: 0.0176\n",
            "Epoch 2/30\n",
            "68/68 [==============================] - 0s 2ms/step - loss: 0.0018\n",
            "Epoch 3/30\n",
            "68/68 [==============================] - 0s 2ms/step - loss: 0.0014\n",
            "Epoch 4/30\n",
            "68/68 [==============================] - 0s 2ms/step - loss: 0.0012\n",
            "Epoch 5/30\n",
            "68/68 [==============================] - 0s 2ms/step - loss: 0.0011\n",
            "Epoch 6/30\n",
            "68/68 [==============================] - 0s 2ms/step - loss: 9.5765e-04\n",
            "Epoch 7/30\n",
            "68/68 [==============================] - 0s 2ms/step - loss: 8.6109e-04\n",
            "Epoch 8/30\n",
            "68/68 [==============================] - 0s 2ms/step - loss: 7.9687e-04\n",
            "Epoch 9/30\n",
            "68/68 [==============================] - 0s 2ms/step - loss: 7.3345e-04\n",
            "Epoch 10/30\n",
            "68/68 [==============================] - 0s 2ms/step - loss: 6.8306e-04\n",
            "Epoch 11/30\n",
            "68/68 [==============================] - 0s 2ms/step - loss: 6.4286e-04\n",
            "Epoch 12/30\n",
            "68/68 [==============================] - 0s 2ms/step - loss: 5.9618e-04\n",
            "Epoch 13/30\n",
            "68/68 [==============================] - 0s 2ms/step - loss: 5.7292e-04\n",
            "Epoch 14/30\n",
            "68/68 [==============================] - 0s 2ms/step - loss: 5.4666e-04\n",
            "Epoch 15/30\n",
            "68/68 [==============================] - 0s 2ms/step - loss: 5.2397e-04\n",
            "Epoch 16/30\n",
            "68/68 [==============================] - 0s 2ms/step - loss: 4.9045e-04\n",
            "Epoch 17/30\n",
            "68/68 [==============================] - 0s 2ms/step - loss: 4.7911e-04\n",
            "Epoch 18/30\n",
            "68/68 [==============================] - 0s 2ms/step - loss: 4.5124e-04\n",
            "Epoch 19/30\n",
            "68/68 [==============================] - 0s 3ms/step - loss: 4.3933e-04\n",
            "Epoch 20/30\n",
            "68/68 [==============================] - 0s 2ms/step - loss: 4.2373e-04\n",
            "Epoch 21/30\n",
            "68/68 [==============================] - 0s 2ms/step - loss: 4.1792e-04\n",
            "Epoch 22/30\n",
            "68/68 [==============================] - 0s 2ms/step - loss: 4.0103e-04\n",
            "Epoch 23/30\n",
            "68/68 [==============================] - 0s 2ms/step - loss: 3.8241e-04\n",
            "Epoch 24/30\n",
            "68/68 [==============================] - 0s 2ms/step - loss: 3.7794e-04\n",
            "Epoch 25/30\n",
            "68/68 [==============================] - 0s 2ms/step - loss: 3.6582e-04\n",
            "Epoch 26/30\n",
            "68/68 [==============================] - 0s 2ms/step - loss: 3.4900e-04\n",
            "Epoch 27/30\n",
            "68/68 [==============================] - 0s 2ms/step - loss: 3.3777e-04\n",
            "Epoch 28/30\n",
            "68/68 [==============================] - 0s 2ms/step - loss: 3.2919e-04\n",
            "Epoch 29/30\n",
            "68/68 [==============================] - 0s 2ms/step - loss: 3.2644e-04\n",
            "Epoch 30/30\n",
            "68/68 [==============================] - 0s 2ms/step - loss: 3.1595e-04\n"
          ]
        },
        {
          "output_type": "execute_result",
          "data": {
            "text/plain": [
              "<keras.callbacks.History at 0x7f870e84af90>"
            ]
          },
          "metadata": {},
          "execution_count": 26
        }
      ]
    },
    {
      "cell_type": "markdown",
      "metadata": {
        "id": "4rPGNFqdINTP"
      },
      "source": [
        "## 6) Test your trained classifiers on the Validation set (10 pts)\n",
        "Test your trained classifiers on the validation set and print the mean squared errors.\n"
      ],
      "id": "4rPGNFqdINTP"
    },
    {
      "cell_type": "code",
      "metadata": {
        "id": "9noUcsDJH1Hz",
        "colab": {
          "base_uri": "https://localhost:8080/"
        },
        "outputId": "5a22f159-1077-40a6-e00f-26e4ab02d877"
      },
      "source": [
        "# tests on validation\n",
        "validation_score = model_25.evaluate(X_validation, y_validation,verbose=1)\n",
        "validation_score \n"
      ],
      "id": "9noUcsDJH1Hz",
      "execution_count": 27,
      "outputs": [
        {
          "output_type": "stream",
          "name": "stdout",
          "text": [
            "15/15 [==============================] - 0s 2ms/step - loss: 6.5713e-04 - accuracy: 0.0000e+00\n"
          ]
        },
        {
          "output_type": "execute_result",
          "data": {
            "text/plain": [
              "[0.0006571318372152746, 0.0]"
            ]
          },
          "metadata": {},
          "execution_count": 27
        }
      ]
    },
    {
      "cell_type": "code",
      "source": [
        "validation_score = model_learning_rate.evaluate(X_validation, y_validation,verbose=1)\n",
        "validation_score "
      ],
      "metadata": {
        "colab": {
          "base_uri": "https://localhost:8080/"
        },
        "id": "x-mm3P2hMkdo",
        "outputId": "db25c1ee-588a-4d0e-b9c6-0634a9c128a9"
      },
      "id": "x-mm3P2hMkdo",
      "execution_count": 28,
      "outputs": [
        {
          "output_type": "stream",
          "name": "stdout",
          "text": [
            "15/15 [==============================] - 0s 2ms/step - loss: 3.7761e-04\n"
          ]
        },
        {
          "output_type": "execute_result",
          "data": {
            "text/plain": [
              "0.00037761146086268127"
            ]
          },
          "metadata": {},
          "execution_count": 28
        }
      ]
    },
    {
      "cell_type": "code",
      "source": [
        "validation_score = model_50.evaluate(X_validation, y_validation,verbose=1)\n",
        "validation_score "
      ],
      "metadata": {
        "colab": {
          "base_uri": "https://localhost:8080/"
        },
        "id": "htCGb0WlYqO0",
        "outputId": "99328725-8d5e-4bdb-f6cc-f11d99118729"
      },
      "id": "htCGb0WlYqO0",
      "execution_count": 29,
      "outputs": [
        {
          "output_type": "stream",
          "name": "stdout",
          "text": [
            "15/15 [==============================] - 0s 1ms/step - loss: 3.5282e-04\n"
          ]
        },
        {
          "output_type": "execute_result",
          "data": {
            "text/plain": [
              "0.0003528165107127279"
            ]
          },
          "metadata": {},
          "execution_count": 29
        }
      ]
    },
    {
      "cell_type": "code",
      "source": [
        "validation_score = model_100.evaluate(X_validation, y_validation,verbose=1)\n",
        "validation_score "
      ],
      "metadata": {
        "colab": {
          "base_uri": "https://localhost:8080/"
        },
        "id": "KQkkRp18YsrS",
        "outputId": "17c486ab-149e-42fc-c0f8-a2291e1c3290"
      },
      "id": "KQkkRp18YsrS",
      "execution_count": 30,
      "outputs": [
        {
          "output_type": "stream",
          "name": "stdout",
          "text": [
            "15/15 [==============================] - 0s 2ms/step - loss: 2.1458e-04\n"
          ]
        },
        {
          "output_type": "execute_result",
          "data": {
            "text/plain": [
              "0.00021457819093484432"
            ]
          },
          "metadata": {},
          "execution_count": 30
        }
      ]
    },
    {
      "cell_type": "code",
      "source": [
        "validation_score = training_model.evaluate(X_validation, y_validation,verbose=1)\n",
        "validation_score"
      ],
      "metadata": {
        "colab": {
          "base_uri": "https://localhost:8080/"
        },
        "id": "PsuIAMGMYvU2",
        "outputId": "6e138a34-85c2-49c3-fbc6-bf66f3f6886d"
      },
      "id": "PsuIAMGMYvU2",
      "execution_count": 44,
      "outputs": [
        {
          "output_type": "stream",
          "name": "stdout",
          "text": [
            "15/15 [==============================] - 0s 2ms/step - loss: 1.3912e-04\n"
          ]
        },
        {
          "output_type": "execute_result",
          "data": {
            "text/plain": [
              "0.00013911847781855613"
            ]
          },
          "metadata": {},
          "execution_count": 44
        }
      ]
    },
    {
      "cell_type": "code",
      "source": [
        "#model with two hidden layers which name is training_model has minimum loss value over the validation dataset so we need to choose it for the testing the new data."
      ],
      "metadata": {
        "id": "EdEwpUaxY2te"
      },
      "id": "EdEwpUaxY2te",
      "execution_count": 32,
      "outputs": []
    },
    {
      "cell_type": "markdown",
      "metadata": {
        "id": "mojk_4Q9JQkR"
      },
      "source": [
        "## 7) Test your classifier on Test set (10 pts)\n",
        "\n",
        "- Load test data\n",
        "- Apply same pre-processing as training data (encoding categorical variables, scaling)\n",
        "- Predict the labels of testing data **using the best model that you have selected according to your validation results** and report the mean squared error. "
      ],
      "id": "mojk_4Q9JQkR"
    },
    {
      "cell_type": "code",
      "metadata": {
        "id": "5f3558e8",
        "colab": {
          "base_uri": "https://localhost:8080/",
          "height": 363
        },
        "outputId": "db7fdb2d-d080-41b3-a2d3-a78861bf4179"
      },
      "source": [
        "# test results\n",
        "test_df = pd.read_csv(\"/content/test.csv\")\n",
        "test_df.head(10)"
      ],
      "id": "5f3558e8",
      "execution_count": 33,
      "outputs": [
        {
          "output_type": "execute_result",
          "data": {
            "text/plain": [
              "   sqmtrs  nrooms   view crime_rate         price\n",
              "0     349       3  south       high  8.365535e+05\n",
              "1     169       1   west       high  5.127416e+05\n",
              "2     233       3  south       high  6.638806e+05\n",
              "3     340       4  north        low  1.000086e+06\n",
              "4     199       2   east        low  7.450151e+05\n",
              "5     332       1   east       high  7.740171e+05\n",
              "6     294       3   west        low  9.132634e+05\n",
              "7     111       3   east        low  5.861116e+05\n",
              "8     310       5  north        low  1.012929e+06\n",
              "9     307       4   west        low  9.715327e+05"
            ],
            "text/html": [
              "\n",
              "  <div id=\"df-2cbfab63-632f-4ab9-83db-f222ca1ae64d\">\n",
              "    <div class=\"colab-df-container\">\n",
              "      <div>\n",
              "<style scoped>\n",
              "    .dataframe tbody tr th:only-of-type {\n",
              "        vertical-align: middle;\n",
              "    }\n",
              "\n",
              "    .dataframe tbody tr th {\n",
              "        vertical-align: top;\n",
              "    }\n",
              "\n",
              "    .dataframe thead th {\n",
              "        text-align: right;\n",
              "    }\n",
              "</style>\n",
              "<table border=\"1\" class=\"dataframe\">\n",
              "  <thead>\n",
              "    <tr style=\"text-align: right;\">\n",
              "      <th></th>\n",
              "      <th>sqmtrs</th>\n",
              "      <th>nrooms</th>\n",
              "      <th>view</th>\n",
              "      <th>crime_rate</th>\n",
              "      <th>price</th>\n",
              "    </tr>\n",
              "  </thead>\n",
              "  <tbody>\n",
              "    <tr>\n",
              "      <th>0</th>\n",
              "      <td>349</td>\n",
              "      <td>3</td>\n",
              "      <td>south</td>\n",
              "      <td>high</td>\n",
              "      <td>8.365535e+05</td>\n",
              "    </tr>\n",
              "    <tr>\n",
              "      <th>1</th>\n",
              "      <td>169</td>\n",
              "      <td>1</td>\n",
              "      <td>west</td>\n",
              "      <td>high</td>\n",
              "      <td>5.127416e+05</td>\n",
              "    </tr>\n",
              "    <tr>\n",
              "      <th>2</th>\n",
              "      <td>233</td>\n",
              "      <td>3</td>\n",
              "      <td>south</td>\n",
              "      <td>high</td>\n",
              "      <td>6.638806e+05</td>\n",
              "    </tr>\n",
              "    <tr>\n",
              "      <th>3</th>\n",
              "      <td>340</td>\n",
              "      <td>4</td>\n",
              "      <td>north</td>\n",
              "      <td>low</td>\n",
              "      <td>1.000086e+06</td>\n",
              "    </tr>\n",
              "    <tr>\n",
              "      <th>4</th>\n",
              "      <td>199</td>\n",
              "      <td>2</td>\n",
              "      <td>east</td>\n",
              "      <td>low</td>\n",
              "      <td>7.450151e+05</td>\n",
              "    </tr>\n",
              "    <tr>\n",
              "      <th>5</th>\n",
              "      <td>332</td>\n",
              "      <td>1</td>\n",
              "      <td>east</td>\n",
              "      <td>high</td>\n",
              "      <td>7.740171e+05</td>\n",
              "    </tr>\n",
              "    <tr>\n",
              "      <th>6</th>\n",
              "      <td>294</td>\n",
              "      <td>3</td>\n",
              "      <td>west</td>\n",
              "      <td>low</td>\n",
              "      <td>9.132634e+05</td>\n",
              "    </tr>\n",
              "    <tr>\n",
              "      <th>7</th>\n",
              "      <td>111</td>\n",
              "      <td>3</td>\n",
              "      <td>east</td>\n",
              "      <td>low</td>\n",
              "      <td>5.861116e+05</td>\n",
              "    </tr>\n",
              "    <tr>\n",
              "      <th>8</th>\n",
              "      <td>310</td>\n",
              "      <td>5</td>\n",
              "      <td>north</td>\n",
              "      <td>low</td>\n",
              "      <td>1.012929e+06</td>\n",
              "    </tr>\n",
              "    <tr>\n",
              "      <th>9</th>\n",
              "      <td>307</td>\n",
              "      <td>4</td>\n",
              "      <td>west</td>\n",
              "      <td>low</td>\n",
              "      <td>9.715327e+05</td>\n",
              "    </tr>\n",
              "  </tbody>\n",
              "</table>\n",
              "</div>\n",
              "      <button class=\"colab-df-convert\" onclick=\"convertToInteractive('df-2cbfab63-632f-4ab9-83db-f222ca1ae64d')\"\n",
              "              title=\"Convert this dataframe to an interactive table.\"\n",
              "              style=\"display:none;\">\n",
              "        \n",
              "  <svg xmlns=\"http://www.w3.org/2000/svg\" height=\"24px\"viewBox=\"0 0 24 24\"\n",
              "       width=\"24px\">\n",
              "    <path d=\"M0 0h24v24H0V0z\" fill=\"none\"/>\n",
              "    <path d=\"M18.56 5.44l.94 2.06.94-2.06 2.06-.94-2.06-.94-.94-2.06-.94 2.06-2.06.94zm-11 1L8.5 8.5l.94-2.06 2.06-.94-2.06-.94L8.5 2.5l-.94 2.06-2.06.94zm10 10l.94 2.06.94-2.06 2.06-.94-2.06-.94-.94-2.06-.94 2.06-2.06.94z\"/><path d=\"M17.41 7.96l-1.37-1.37c-.4-.4-.92-.59-1.43-.59-.52 0-1.04.2-1.43.59L10.3 9.45l-7.72 7.72c-.78.78-.78 2.05 0 2.83L4 21.41c.39.39.9.59 1.41.59.51 0 1.02-.2 1.41-.59l7.78-7.78 2.81-2.81c.8-.78.8-2.07 0-2.86zM5.41 20L4 18.59l7.72-7.72 1.47 1.35L5.41 20z\"/>\n",
              "  </svg>\n",
              "      </button>\n",
              "      \n",
              "  <style>\n",
              "    .colab-df-container {\n",
              "      display:flex;\n",
              "      flex-wrap:wrap;\n",
              "      gap: 12px;\n",
              "    }\n",
              "\n",
              "    .colab-df-convert {\n",
              "      background-color: #E8F0FE;\n",
              "      border: none;\n",
              "      border-radius: 50%;\n",
              "      cursor: pointer;\n",
              "      display: none;\n",
              "      fill: #1967D2;\n",
              "      height: 32px;\n",
              "      padding: 0 0 0 0;\n",
              "      width: 32px;\n",
              "    }\n",
              "\n",
              "    .colab-df-convert:hover {\n",
              "      background-color: #E2EBFA;\n",
              "      box-shadow: 0px 1px 2px rgba(60, 64, 67, 0.3), 0px 1px 3px 1px rgba(60, 64, 67, 0.15);\n",
              "      fill: #174EA6;\n",
              "    }\n",
              "\n",
              "    [theme=dark] .colab-df-convert {\n",
              "      background-color: #3B4455;\n",
              "      fill: #D2E3FC;\n",
              "    }\n",
              "\n",
              "    [theme=dark] .colab-df-convert:hover {\n",
              "      background-color: #434B5C;\n",
              "      box-shadow: 0px 1px 3px 1px rgba(0, 0, 0, 0.15);\n",
              "      filter: drop-shadow(0px 1px 2px rgba(0, 0, 0, 0.3));\n",
              "      fill: #FFFFFF;\n",
              "    }\n",
              "  </style>\n",
              "\n",
              "      <script>\n",
              "        const buttonEl =\n",
              "          document.querySelector('#df-2cbfab63-632f-4ab9-83db-f222ca1ae64d button.colab-df-convert');\n",
              "        buttonEl.style.display =\n",
              "          google.colab.kernel.accessAllowed ? 'block' : 'none';\n",
              "\n",
              "        async function convertToInteractive(key) {\n",
              "          const element = document.querySelector('#df-2cbfab63-632f-4ab9-83db-f222ca1ae64d');\n",
              "          const dataTable =\n",
              "            await google.colab.kernel.invokeFunction('convertToInteractive',\n",
              "                                                     [key], {});\n",
              "          if (!dataTable) return;\n",
              "\n",
              "          const docLinkHtml = 'Like what you see? Visit the ' +\n",
              "            '<a target=\"_blank\" href=https://colab.research.google.com/notebooks/data_table.ipynb>data table notebook</a>'\n",
              "            + ' to learn more about interactive tables.';\n",
              "          element.innerHTML = '';\n",
              "          dataTable['output_type'] = 'display_data';\n",
              "          await google.colab.output.renderOutput(dataTable, element);\n",
              "          const docLink = document.createElement('div');\n",
              "          docLink.innerHTML = docLinkHtml;\n",
              "          element.appendChild(docLink);\n",
              "        }\n",
              "      </script>\n",
              "    </div>\n",
              "  </div>\n",
              "  "
            ]
          },
          "metadata": {},
          "execution_count": 33
        }
      ]
    },
    {
      "cell_type": "code",
      "source": [
        "# encode the categorical variables\n",
        "# first encode the view column\n",
        "from sklearn.preprocessing import LabelEncoder\n",
        "le = LabelEncoder()\n",
        "label = le.fit_transform(test_df['view'])\n",
        "test_df.drop(\"view\", axis=1, inplace=True)\n",
        "test_df[\"view\"] = label\n",
        "print(test_df)"
      ],
      "metadata": {
        "colab": {
          "base_uri": "https://localhost:8080/"
        },
        "id": "0Ab7lhhxUIVG",
        "outputId": "0d0c1848-9860-4f36-d0a3-19da0097589e"
      },
      "id": "0Ab7lhhxUIVG",
      "execution_count": 45,
      "outputs": [
        {
          "output_type": "stream",
          "name": "stdout",
          "text": [
            "      sqmtrs  nrooms         price  crime_rate  view\n",
            "0        349       3  8.365535e+05           0     2\n",
            "1        169       1  5.127416e+05           0     3\n",
            "2        233       3  6.638806e+05           0     2\n",
            "3        340       4  1.000086e+06           1     1\n",
            "4        199       2  7.450151e+05           1     0\n",
            "...      ...     ...           ...         ...   ...\n",
            "1195     213       5  7.081836e+05           0     3\n",
            "1196     136       1  5.940682e+05           1     0\n",
            "1197     130       3  6.271434e+05           1     2\n",
            "1198     291       3  7.596893e+05           0     2\n",
            "1199     333       2  9.331981e+05           1     3\n",
            "\n",
            "[1200 rows x 5 columns]\n"
          ]
        }
      ]
    },
    {
      "cell_type": "code",
      "source": [
        "# encode the crime_rate column\n",
        "from sklearn.preprocessing import LabelEncoder\n",
        "le = LabelEncoder()\n",
        "label = le.fit_transform(test_df['crime_rate'])\n",
        "test_df.drop(\"crime_rate\", axis=1, inplace=True)\n",
        "test_df[\"crime_rate\"] = label\n",
        "print(test_df)"
      ],
      "metadata": {
        "colab": {
          "base_uri": "https://localhost:8080/"
        },
        "id": "LaEptaskUOH9",
        "outputId": "e8d496e8-4249-4e62-9037-8dbb3290b7dc"
      },
      "id": "LaEptaskUOH9",
      "execution_count": 46,
      "outputs": [
        {
          "output_type": "stream",
          "name": "stdout",
          "text": [
            "      sqmtrs  nrooms         price  view  crime_rate\n",
            "0        349       3  8.365535e+05     2           0\n",
            "1        169       1  5.127416e+05     3           0\n",
            "2        233       3  6.638806e+05     2           0\n",
            "3        340       4  1.000086e+06     1           1\n",
            "4        199       2  7.450151e+05     0           1\n",
            "...      ...     ...           ...   ...         ...\n",
            "1195     213       5  7.081836e+05     3           0\n",
            "1196     136       1  5.940682e+05     0           1\n",
            "1197     130       3  6.271434e+05     2           1\n",
            "1198     291       3  7.596893e+05     2           0\n",
            "1199     333       2  9.331981e+05     3           1\n",
            "\n",
            "[1200 rows x 5 columns]\n"
          ]
        }
      ]
    },
    {
      "cell_type": "code",
      "source": [
        "# scale the features between 0-1\n",
        "from sklearn.preprocessing import MinMaxScaler\n",
        "msc = MinMaxScaler()\n",
        "\n",
        "# Scale both the training inputs and outputs\n",
        "scaled_test= msc.fit_transform(test_df);\n",
        "scaled_test"
      ],
      "metadata": {
        "colab": {
          "base_uri": "https://localhost:8080/"
        },
        "id": "WSGRIlteUoi0",
        "outputId": "fb3cf19d-9e18-46ac-dcb7-4fd70d5304fb"
      },
      "id": "WSGRIlteUoi0",
      "execution_count": 47,
      "outputs": [
        {
          "output_type": "execute_result",
          "data": {
            "text/plain": [
              "array([[1.        , 0.5       , 0.69044087, 0.66666667, 0.        ],\n",
              "       [0.27710843, 0.        , 0.22900755, 1.        , 0.        ],\n",
              "       [0.53413655, 0.5       , 0.4443812 , 0.66666667, 0.        ],\n",
              "       ...,\n",
              "       [0.12048193, 0.5       , 0.39203058, 0.66666667, 1.        ],\n",
              "       [0.76706827, 0.5       , 0.58090906, 0.66666667, 0.        ],\n",
              "       [0.93574297, 0.25      , 0.82815994, 1.        , 1.        ]])"
            ]
          },
          "metadata": {},
          "execution_count": 47
        }
      ]
    },
    {
      "cell_type": "code",
      "source": [
        "# scaling created a numpy array, so we need to convert it to dataframe object\n",
        "scaled_test_df = pd.DataFrame(scaled_test, columns=test_df.columns.values)\n",
        "scaled_test_df"
      ],
      "metadata": {
        "colab": {
          "base_uri": "https://localhost:8080/",
          "height": 424
        },
        "id": "6-93iP3iUvHI",
        "outputId": "a25de4b3-42c9-424a-87a3-4fa1491ff5da"
      },
      "id": "6-93iP3iUvHI",
      "execution_count": 48,
      "outputs": [
        {
          "output_type": "execute_result",
          "data": {
            "text/plain": [
              "        sqmtrs  nrooms     price      view  crime_rate\n",
              "0     1.000000    0.50  0.690441  0.666667         0.0\n",
              "1     0.277108    0.00  0.229008  1.000000         0.0\n",
              "2     0.534137    0.50  0.444381  0.666667         0.0\n",
              "3     0.963855    0.75  0.923476  0.333333         1.0\n",
              "4     0.397590    0.25  0.559998  0.000000         1.0\n",
              "...        ...     ...       ...       ...         ...\n",
              "1195  0.453815    1.00  0.507513  1.000000         0.0\n",
              "1196  0.144578    0.00  0.344898  0.000000         1.0\n",
              "1197  0.120482    0.50  0.392031  0.666667         1.0\n",
              "1198  0.767068    0.50  0.580909  0.666667         0.0\n",
              "1199  0.935743    0.25  0.828160  1.000000         1.0\n",
              "\n",
              "[1200 rows x 5 columns]"
            ],
            "text/html": [
              "\n",
              "  <div id=\"df-ae467d4e-697a-4443-981a-79a7017f5062\">\n",
              "    <div class=\"colab-df-container\">\n",
              "      <div>\n",
              "<style scoped>\n",
              "    .dataframe tbody tr th:only-of-type {\n",
              "        vertical-align: middle;\n",
              "    }\n",
              "\n",
              "    .dataframe tbody tr th {\n",
              "        vertical-align: top;\n",
              "    }\n",
              "\n",
              "    .dataframe thead th {\n",
              "        text-align: right;\n",
              "    }\n",
              "</style>\n",
              "<table border=\"1\" class=\"dataframe\">\n",
              "  <thead>\n",
              "    <tr style=\"text-align: right;\">\n",
              "      <th></th>\n",
              "      <th>sqmtrs</th>\n",
              "      <th>nrooms</th>\n",
              "      <th>price</th>\n",
              "      <th>view</th>\n",
              "      <th>crime_rate</th>\n",
              "    </tr>\n",
              "  </thead>\n",
              "  <tbody>\n",
              "    <tr>\n",
              "      <th>0</th>\n",
              "      <td>1.000000</td>\n",
              "      <td>0.50</td>\n",
              "      <td>0.690441</td>\n",
              "      <td>0.666667</td>\n",
              "      <td>0.0</td>\n",
              "    </tr>\n",
              "    <tr>\n",
              "      <th>1</th>\n",
              "      <td>0.277108</td>\n",
              "      <td>0.00</td>\n",
              "      <td>0.229008</td>\n",
              "      <td>1.000000</td>\n",
              "      <td>0.0</td>\n",
              "    </tr>\n",
              "    <tr>\n",
              "      <th>2</th>\n",
              "      <td>0.534137</td>\n",
              "      <td>0.50</td>\n",
              "      <td>0.444381</td>\n",
              "      <td>0.666667</td>\n",
              "      <td>0.0</td>\n",
              "    </tr>\n",
              "    <tr>\n",
              "      <th>3</th>\n",
              "      <td>0.963855</td>\n",
              "      <td>0.75</td>\n",
              "      <td>0.923476</td>\n",
              "      <td>0.333333</td>\n",
              "      <td>1.0</td>\n",
              "    </tr>\n",
              "    <tr>\n",
              "      <th>4</th>\n",
              "      <td>0.397590</td>\n",
              "      <td>0.25</td>\n",
              "      <td>0.559998</td>\n",
              "      <td>0.000000</td>\n",
              "      <td>1.0</td>\n",
              "    </tr>\n",
              "    <tr>\n",
              "      <th>...</th>\n",
              "      <td>...</td>\n",
              "      <td>...</td>\n",
              "      <td>...</td>\n",
              "      <td>...</td>\n",
              "      <td>...</td>\n",
              "    </tr>\n",
              "    <tr>\n",
              "      <th>1195</th>\n",
              "      <td>0.453815</td>\n",
              "      <td>1.00</td>\n",
              "      <td>0.507513</td>\n",
              "      <td>1.000000</td>\n",
              "      <td>0.0</td>\n",
              "    </tr>\n",
              "    <tr>\n",
              "      <th>1196</th>\n",
              "      <td>0.144578</td>\n",
              "      <td>0.00</td>\n",
              "      <td>0.344898</td>\n",
              "      <td>0.000000</td>\n",
              "      <td>1.0</td>\n",
              "    </tr>\n",
              "    <tr>\n",
              "      <th>1197</th>\n",
              "      <td>0.120482</td>\n",
              "      <td>0.50</td>\n",
              "      <td>0.392031</td>\n",
              "      <td>0.666667</td>\n",
              "      <td>1.0</td>\n",
              "    </tr>\n",
              "    <tr>\n",
              "      <th>1198</th>\n",
              "      <td>0.767068</td>\n",
              "      <td>0.50</td>\n",
              "      <td>0.580909</td>\n",
              "      <td>0.666667</td>\n",
              "      <td>0.0</td>\n",
              "    </tr>\n",
              "    <tr>\n",
              "      <th>1199</th>\n",
              "      <td>0.935743</td>\n",
              "      <td>0.25</td>\n",
              "      <td>0.828160</td>\n",
              "      <td>1.000000</td>\n",
              "      <td>1.0</td>\n",
              "    </tr>\n",
              "  </tbody>\n",
              "</table>\n",
              "<p>1200 rows × 5 columns</p>\n",
              "</div>\n",
              "      <button class=\"colab-df-convert\" onclick=\"convertToInteractive('df-ae467d4e-697a-4443-981a-79a7017f5062')\"\n",
              "              title=\"Convert this dataframe to an interactive table.\"\n",
              "              style=\"display:none;\">\n",
              "        \n",
              "  <svg xmlns=\"http://www.w3.org/2000/svg\" height=\"24px\"viewBox=\"0 0 24 24\"\n",
              "       width=\"24px\">\n",
              "    <path d=\"M0 0h24v24H0V0z\" fill=\"none\"/>\n",
              "    <path d=\"M18.56 5.44l.94 2.06.94-2.06 2.06-.94-2.06-.94-.94-2.06-.94 2.06-2.06.94zm-11 1L8.5 8.5l.94-2.06 2.06-.94-2.06-.94L8.5 2.5l-.94 2.06-2.06.94zm10 10l.94 2.06.94-2.06 2.06-.94-2.06-.94-.94-2.06-.94 2.06-2.06.94z\"/><path d=\"M17.41 7.96l-1.37-1.37c-.4-.4-.92-.59-1.43-.59-.52 0-1.04.2-1.43.59L10.3 9.45l-7.72 7.72c-.78.78-.78 2.05 0 2.83L4 21.41c.39.39.9.59 1.41.59.51 0 1.02-.2 1.41-.59l7.78-7.78 2.81-2.81c.8-.78.8-2.07 0-2.86zM5.41 20L4 18.59l7.72-7.72 1.47 1.35L5.41 20z\"/>\n",
              "  </svg>\n",
              "      </button>\n",
              "      \n",
              "  <style>\n",
              "    .colab-df-container {\n",
              "      display:flex;\n",
              "      flex-wrap:wrap;\n",
              "      gap: 12px;\n",
              "    }\n",
              "\n",
              "    .colab-df-convert {\n",
              "      background-color: #E8F0FE;\n",
              "      border: none;\n",
              "      border-radius: 50%;\n",
              "      cursor: pointer;\n",
              "      display: none;\n",
              "      fill: #1967D2;\n",
              "      height: 32px;\n",
              "      padding: 0 0 0 0;\n",
              "      width: 32px;\n",
              "    }\n",
              "\n",
              "    .colab-df-convert:hover {\n",
              "      background-color: #E2EBFA;\n",
              "      box-shadow: 0px 1px 2px rgba(60, 64, 67, 0.3), 0px 1px 3px 1px rgba(60, 64, 67, 0.15);\n",
              "      fill: #174EA6;\n",
              "    }\n",
              "\n",
              "    [theme=dark] .colab-df-convert {\n",
              "      background-color: #3B4455;\n",
              "      fill: #D2E3FC;\n",
              "    }\n",
              "\n",
              "    [theme=dark] .colab-df-convert:hover {\n",
              "      background-color: #434B5C;\n",
              "      box-shadow: 0px 1px 3px 1px rgba(0, 0, 0, 0.15);\n",
              "      filter: drop-shadow(0px 1px 2px rgba(0, 0, 0, 0.3));\n",
              "      fill: #FFFFFF;\n",
              "    }\n",
              "  </style>\n",
              "\n",
              "      <script>\n",
              "        const buttonEl =\n",
              "          document.querySelector('#df-ae467d4e-697a-4443-981a-79a7017f5062 button.colab-df-convert');\n",
              "        buttonEl.style.display =\n",
              "          google.colab.kernel.accessAllowed ? 'block' : 'none';\n",
              "\n",
              "        async function convertToInteractive(key) {\n",
              "          const element = document.querySelector('#df-ae467d4e-697a-4443-981a-79a7017f5062');\n",
              "          const dataTable =\n",
              "            await google.colab.kernel.invokeFunction('convertToInteractive',\n",
              "                                                     [key], {});\n",
              "          if (!dataTable) return;\n",
              "\n",
              "          const docLinkHtml = 'Like what you see? Visit the ' +\n",
              "            '<a target=\"_blank\" href=https://colab.research.google.com/notebooks/data_table.ipynb>data table notebook</a>'\n",
              "            + ' to learn more about interactive tables.';\n",
              "          element.innerHTML = '';\n",
              "          dataTable['output_type'] = 'display_data';\n",
              "          await google.colab.output.renderOutput(dataTable, element);\n",
              "          const docLink = document.createElement('div');\n",
              "          docLink.innerHTML = docLinkHtml;\n",
              "          element.appendChild(docLink);\n",
              "        }\n",
              "      </script>\n",
              "    </div>\n",
              "  </div>\n",
              "  "
            ]
          },
          "metadata": {},
          "execution_count": 48
        }
      ]
    },
    {
      "cell_type": "code",
      "source": [
        "target='price'\n",
        "X_test = scaled_test_df.drop(target, axis=1).values\n",
        "Y_test = scaled_test_df[[target]].values"
      ],
      "metadata": {
        "id": "MIAt_UltVEAY"
      },
      "id": "MIAt_UltVEAY",
      "execution_count": 49,
      "outputs": []
    },
    {
      "cell_type": "code",
      "source": [
        "score = training_model.evaluate(X_test, Y_test, verbose=0)\n",
        "print('Test loss:', score)"
      ],
      "metadata": {
        "colab": {
          "base_uri": "https://localhost:8080/"
        },
        "id": "A8wBQJ3-VX_j",
        "outputId": "3e149d8b-4dcd-41f4-bf76-24d0d9938b70"
      },
      "id": "A8wBQJ3-VX_j",
      "execution_count": 50,
      "outputs": [
        {
          "output_type": "stream",
          "name": "stdout",
          "text": [
            "Test loss: 0.008553351275622845\n"
          ]
        }
      ]
    },
    {
      "cell_type": "markdown",
      "source": [
        "## 8) Bonus (5pt)"
      ],
      "metadata": {
        "id": "d3vRTfLsWVVp"
      },
      "id": "d3vRTfLsWVVp"
    },
    {
      "cell_type": "code",
      "source": [
        "train_df_bonus"
      ],
      "metadata": {
        "colab": {
          "base_uri": "https://localhost:8080/",
          "height": 424
        },
        "id": "CnecCXipceWW",
        "outputId": "4d83bb08-fa2a-40e6-efd5-ca58948fc85d"
      },
      "id": "CnecCXipceWW",
      "execution_count": 51,
      "outputs": [
        {
          "output_type": "execute_result",
          "data": {
            "text/plain": [
              "      sqmtrs  nrooms  view  crime_rate  price\n",
              "0        251       5     3           1   4337\n",
              "1        211       3     3           0   1222\n",
              "2        128       5     0           1   1994\n",
              "3        178       3     0           0    749\n",
              "4        231       3     3           1   3317\n",
              "...      ...     ...   ...         ...    ...\n",
              "4795     231       5     0           1   4025\n",
              "4796     229       2     0           1   2984\n",
              "4797     334       2     3           0   3039\n",
              "4798     332       2     1           0   2943\n",
              "4799     244       4     0           1   3872\n",
              "\n",
              "[4800 rows x 5 columns]"
            ],
            "text/html": [
              "\n",
              "  <div id=\"df-f8ab86cb-eb45-4fa5-901e-8dd1697b2fe5\">\n",
              "    <div class=\"colab-df-container\">\n",
              "      <div>\n",
              "<style scoped>\n",
              "    .dataframe tbody tr th:only-of-type {\n",
              "        vertical-align: middle;\n",
              "    }\n",
              "\n",
              "    .dataframe tbody tr th {\n",
              "        vertical-align: top;\n",
              "    }\n",
              "\n",
              "    .dataframe thead th {\n",
              "        text-align: right;\n",
              "    }\n",
              "</style>\n",
              "<table border=\"1\" class=\"dataframe\">\n",
              "  <thead>\n",
              "    <tr style=\"text-align: right;\">\n",
              "      <th></th>\n",
              "      <th>sqmtrs</th>\n",
              "      <th>nrooms</th>\n",
              "      <th>view</th>\n",
              "      <th>crime_rate</th>\n",
              "      <th>price</th>\n",
              "    </tr>\n",
              "  </thead>\n",
              "  <tbody>\n",
              "    <tr>\n",
              "      <th>0</th>\n",
              "      <td>251</td>\n",
              "      <td>5</td>\n",
              "      <td>3</td>\n",
              "      <td>1</td>\n",
              "      <td>4337</td>\n",
              "    </tr>\n",
              "    <tr>\n",
              "      <th>1</th>\n",
              "      <td>211</td>\n",
              "      <td>3</td>\n",
              "      <td>3</td>\n",
              "      <td>0</td>\n",
              "      <td>1222</td>\n",
              "    </tr>\n",
              "    <tr>\n",
              "      <th>2</th>\n",
              "      <td>128</td>\n",
              "      <td>5</td>\n",
              "      <td>0</td>\n",
              "      <td>1</td>\n",
              "      <td>1994</td>\n",
              "    </tr>\n",
              "    <tr>\n",
              "      <th>3</th>\n",
              "      <td>178</td>\n",
              "      <td>3</td>\n",
              "      <td>0</td>\n",
              "      <td>0</td>\n",
              "      <td>749</td>\n",
              "    </tr>\n",
              "    <tr>\n",
              "      <th>4</th>\n",
              "      <td>231</td>\n",
              "      <td>3</td>\n",
              "      <td>3</td>\n",
              "      <td>1</td>\n",
              "      <td>3317</td>\n",
              "    </tr>\n",
              "    <tr>\n",
              "      <th>...</th>\n",
              "      <td>...</td>\n",
              "      <td>...</td>\n",
              "      <td>...</td>\n",
              "      <td>...</td>\n",
              "      <td>...</td>\n",
              "    </tr>\n",
              "    <tr>\n",
              "      <th>4795</th>\n",
              "      <td>231</td>\n",
              "      <td>5</td>\n",
              "      <td>0</td>\n",
              "      <td>1</td>\n",
              "      <td>4025</td>\n",
              "    </tr>\n",
              "    <tr>\n",
              "      <th>4796</th>\n",
              "      <td>229</td>\n",
              "      <td>2</td>\n",
              "      <td>0</td>\n",
              "      <td>1</td>\n",
              "      <td>2984</td>\n",
              "    </tr>\n",
              "    <tr>\n",
              "      <th>4797</th>\n",
              "      <td>334</td>\n",
              "      <td>2</td>\n",
              "      <td>3</td>\n",
              "      <td>0</td>\n",
              "      <td>3039</td>\n",
              "    </tr>\n",
              "    <tr>\n",
              "      <th>4798</th>\n",
              "      <td>332</td>\n",
              "      <td>2</td>\n",
              "      <td>1</td>\n",
              "      <td>0</td>\n",
              "      <td>2943</td>\n",
              "    </tr>\n",
              "    <tr>\n",
              "      <th>4799</th>\n",
              "      <td>244</td>\n",
              "      <td>4</td>\n",
              "      <td>0</td>\n",
              "      <td>1</td>\n",
              "      <td>3872</td>\n",
              "    </tr>\n",
              "  </tbody>\n",
              "</table>\n",
              "<p>4800 rows × 5 columns</p>\n",
              "</div>\n",
              "      <button class=\"colab-df-convert\" onclick=\"convertToInteractive('df-f8ab86cb-eb45-4fa5-901e-8dd1697b2fe5')\"\n",
              "              title=\"Convert this dataframe to an interactive table.\"\n",
              "              style=\"display:none;\">\n",
              "        \n",
              "  <svg xmlns=\"http://www.w3.org/2000/svg\" height=\"24px\"viewBox=\"0 0 24 24\"\n",
              "       width=\"24px\">\n",
              "    <path d=\"M0 0h24v24H0V0z\" fill=\"none\"/>\n",
              "    <path d=\"M18.56 5.44l.94 2.06.94-2.06 2.06-.94-2.06-.94-.94-2.06-.94 2.06-2.06.94zm-11 1L8.5 8.5l.94-2.06 2.06-.94-2.06-.94L8.5 2.5l-.94 2.06-2.06.94zm10 10l.94 2.06.94-2.06 2.06-.94-2.06-.94-.94-2.06-.94 2.06-2.06.94z\"/><path d=\"M17.41 7.96l-1.37-1.37c-.4-.4-.92-.59-1.43-.59-.52 0-1.04.2-1.43.59L10.3 9.45l-7.72 7.72c-.78.78-.78 2.05 0 2.83L4 21.41c.39.39.9.59 1.41.59.51 0 1.02-.2 1.41-.59l7.78-7.78 2.81-2.81c.8-.78.8-2.07 0-2.86zM5.41 20L4 18.59l7.72-7.72 1.47 1.35L5.41 20z\"/>\n",
              "  </svg>\n",
              "      </button>\n",
              "      \n",
              "  <style>\n",
              "    .colab-df-container {\n",
              "      display:flex;\n",
              "      flex-wrap:wrap;\n",
              "      gap: 12px;\n",
              "    }\n",
              "\n",
              "    .colab-df-convert {\n",
              "      background-color: #E8F0FE;\n",
              "      border: none;\n",
              "      border-radius: 50%;\n",
              "      cursor: pointer;\n",
              "      display: none;\n",
              "      fill: #1967D2;\n",
              "      height: 32px;\n",
              "      padding: 0 0 0 0;\n",
              "      width: 32px;\n",
              "    }\n",
              "\n",
              "    .colab-df-convert:hover {\n",
              "      background-color: #E2EBFA;\n",
              "      box-shadow: 0px 1px 2px rgba(60, 64, 67, 0.3), 0px 1px 3px 1px rgba(60, 64, 67, 0.15);\n",
              "      fill: #174EA6;\n",
              "    }\n",
              "\n",
              "    [theme=dark] .colab-df-convert {\n",
              "      background-color: #3B4455;\n",
              "      fill: #D2E3FC;\n",
              "    }\n",
              "\n",
              "    [theme=dark] .colab-df-convert:hover {\n",
              "      background-color: #434B5C;\n",
              "      box-shadow: 0px 1px 3px 1px rgba(0, 0, 0, 0.15);\n",
              "      filter: drop-shadow(0px 1px 2px rgba(0, 0, 0, 0.3));\n",
              "      fill: #FFFFFF;\n",
              "    }\n",
              "  </style>\n",
              "\n",
              "      <script>\n",
              "        const buttonEl =\n",
              "          document.querySelector('#df-f8ab86cb-eb45-4fa5-901e-8dd1697b2fe5 button.colab-df-convert');\n",
              "        buttonEl.style.display =\n",
              "          google.colab.kernel.accessAllowed ? 'block' : 'none';\n",
              "\n",
              "        async function convertToInteractive(key) {\n",
              "          const element = document.querySelector('#df-f8ab86cb-eb45-4fa5-901e-8dd1697b2fe5');\n",
              "          const dataTable =\n",
              "            await google.colab.kernel.invokeFunction('convertToInteractive',\n",
              "                                                     [key], {});\n",
              "          if (!dataTable) return;\n",
              "\n",
              "          const docLinkHtml = 'Like what you see? Visit the ' +\n",
              "            '<a target=\"_blank\" href=https://colab.research.google.com/notebooks/data_table.ipynb>data table notebook</a>'\n",
              "            + ' to learn more about interactive tables.';\n",
              "          element.innerHTML = '';\n",
              "          dataTable['output_type'] = 'display_data';\n",
              "          await google.colab.output.renderOutput(dataTable, element);\n",
              "          const docLink = document.createElement('div');\n",
              "          docLink.innerHTML = docLinkHtml;\n",
              "          element.appendChild(docLink);\n",
              "        }\n",
              "      </script>\n",
              "    </div>\n",
              "  </div>\n",
              "  "
            ]
          },
          "metadata": {},
          "execution_count": 51
        }
      ]
    },
    {
      "cell_type": "markdown",
      "metadata": {
        "id": "Qg0mDfdNJgrd"
      },
      "source": [
        "##9) Report Your Results (10 pts)\n",
        "\n",
        "**Notebook should be RUN:** As training and testing may take a long time, we may just look at your notebook results without running the code again; so make sure **each cell is run**, so outputs are there.\n",
        "\n",
        "**Report:** Write an **1-2 page summary** of your approach to this problem **as indicated below**. \n",
        "\n",
        "**Must include statements such as those below:**\n",
        "**(Remove the text in parentheses, below, and include your own report)**\n",
        "\n",
        "( Include the problem definition: 1-2 lines )\n",
        "The problem is clearly is that given the features like square meter of houses (sqmtrs), number of room (nrooms), view of the house (view), crime rate of the environment that house is in\t(crime_rate) and also price of the house (price).\n",
        "\n",
        "Our independent variables are sqmtrs, nrooms, view, crime_rate, and our dependent variable is price. It means that our aim is to predict the price of the house with given these independent variables.\n",
        "\n",
        " (Talk about train/val/test sets, size and how split. )\n",
        " (Talk about feature extraction or preprocessing.)\n",
        "For achieving this aim and predicting house prices, I started with the mean, standard deviation of the data to understand it and then, I converted all categorical values to numerical ones as using LabelEncoder() to train my dataset properly for the upcoming stages.\n",
        "\n",
        "Then, I scaled all my features between 0 and 1 as using MinMaxScaler().\n",
        "Lastly, I splitted my dataset 90% training and 10% validation.\n",
        "\n",
        "After that, I started to train it as using one hidden layer and 25, 50, and 100 nodes. However, the lowest MSE loss was in the two hidden layer model.\n",
        "And I used all of these models in the validation set, it clearly showed me the lowest loss is in the two hidden layer one. Therefore, I decided to use it in my test dataset. \n",
        "\n",
        "Finally, I did all the same things in my test dataset like in the training and I use the two hidden layer model which has the lowest loss score.\n",
        "\n",
        " \n",
        "\n",
        "\n",
        "**Add your observations as follows** (keep the questions for easy grading/context) in the report part of your notebook.\n",
        "\n",
        "**Observations**\n",
        "\n",
        "- Try a few learning rates for N=25 hidden neurons,  train for the indicated amount of epochs. Comment on what happens when learning rate is large or small? What is a good number/range for the learning rate?\n",
        "Your answer here….\n",
        "Actually, choosing the most appropriate learning rate was the most challenging part of this homework for me. \n",
        "Mostly learning rate has small positive values between 0.0 and 1.0.\n",
        "Smaller learning rate requires more training epochs because it affects the change of the weights little so it would increase the training process and our model could get stuck.\n",
        "On the other hand, larger learning rate requires fewer training epochs and would lead to learn a sub-optimal set of weights too fast or an unstable training process.\n",
        "\n",
        "First of all, I choose the Adam optimizer to be in the safe side and I think that it would give me the appropriate results. \n",
        "However, I would try other learning rates to see how our result change with them.\n",
        "\n",
        "I set learning rate 0.001 which means quite small and keep my training epoch as 70. Also, for other model, I set learning rate 0.01 and kept my training epoch as 50. They would result well at the beginning but get stuck on at some point.\n",
        "Then, I put my learning rate as 0.1 and which gives me the better result compare to last 2. However, it was not so good compare to Adam() optimizer.\n",
        "\n",
        "- Use that learning rate and vary the number of hidden neurons for the given values and try the indicated number of epochs. Give the validation mean squared errors for different approach and meta-parameters tried **in a table** and state which one you selected as your model. How many hidden neurons give the best model? \n",
        "The best model is the model which has two hidden layer, 250,100,1 and I used Adam optimizer for that because Adam gives the most accurate results in general. I wanted to be in the safe side.\n",
        "\n",
        "- State  what your test results are with the chosen approach and meta-parameters: e.g. \"We have obtained the best results on the validation set with the two hidden layered with using Adam optimizer approach using a value of \n",
        "This is the regression problem because of that I did not cate the accuracy result. The main point for me is MSE. And the MSE value for my model is quite small which is good. \n",
        "\n",
        "- How slow is learning? Any other problems?\n",
        "Actually it was good.\n",
        "\n",
        "- Any other observations (not obligatory)\n",
        "\n",
        " You can add additional visualization as separate pages if you want, think of them as appendix, keeping the summary to 1-2-pages.\n",
        "\n"
      ],
      "id": "Qg0mDfdNJgrd"
    }
  ]
}